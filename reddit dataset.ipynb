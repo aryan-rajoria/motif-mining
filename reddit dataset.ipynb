{
 "cells": [
  {
   "cell_type": "code",
   "execution_count": 1,
   "id": "c2b81240",
   "metadata": {},
   "outputs": [],
   "source": [
    "import os"
   ]
  },
  {
   "cell_type": "code",
   "execution_count": 9,
   "id": "811d613b",
   "metadata": {},
   "outputs": [],
   "source": [
    "def get_size(start_path = '.'):\n",
    "    total_size = 0\n",
    "    number_of_files = 0\n",
    "    for dirpath, dirnames, filenames in os.walk(start_path):\n",
    "        for f in filenames:\n",
    "            fp = os.path.join(dirpath, f)\n",
    "            # skip if it is symbolic link\n",
    "            if not os.path.islink(fp):\n",
    "                total_size += os.path.getsize(fp)\n",
    "                number_of_files += 1\n",
    "\n",
    "    return total_size, number_of_files"
   ]
  },
  {
   "cell_type": "code",
   "execution_count": 10,
   "id": "89438bb5",
   "metadata": {},
   "outputs": [],
   "source": [
    "x, num = get_size('../../dataset/Reddit_Provenance_Datasets/data/')"
   ]
  },
  {
   "cell_type": "code",
   "execution_count": 11,
   "id": "061fa067",
   "metadata": {},
   "outputs": [],
   "source": [
    "x=x/(1024**3)"
   ]
  },
  {
   "cell_type": "code",
   "execution_count": 12,
   "id": "11f8e699",
   "metadata": {},
   "outputs": [
    {
     "data": {
      "text/plain": [
       "5.253659635782242"
      ]
     },
     "execution_count": 12,
     "metadata": {},
     "output_type": "execute_result"
    }
   ],
   "source": [
    "x"
   ]
  },
  {
   "cell_type": "code",
   "execution_count": 13,
   "id": "b525bf8b",
   "metadata": {},
   "outputs": [
    {
     "data": {
      "text/plain": [
       "10317"
      ]
     },
     "execution_count": 13,
     "metadata": {},
     "output_type": "execute_result"
    }
   ],
   "source": [
    "num"
   ]
  },
  {
   "cell_type": "markdown",
   "id": "c87155ec",
   "metadata": {},
   "source": [
    "### Setting up eva"
   ]
  },
  {
   "cell_type": "code",
   "execution_count": 17,
   "id": "0c3f5962",
   "metadata": {},
   "outputs": [],
   "source": [
    "from IPython.core.magic import register_cell_magic\n",
    "\n",
    "from eva.server.db_api import connect\n",
    "import nest_asyncio\n",
    "\n",
    "nest_asyncio.apply()\n",
    "cur = connect(host=\"127.0.0.1\", port=5432).cursor()\n",
    "\n",
    "@register_cell_magic\n",
    "def evaql(line, cell):\n",
    "    x = cell.split(';')\n",
    "    for i in x[:-1]:\n",
    "        cur.execute(i)\n",
    "        res = cur.fetch_all()\n",
    "        print(res)"
   ]
  },
  {
   "cell_type": "markdown",
   "id": "0e315359",
   "metadata": {},
   "source": [
    "### Load images into table;"
   ]
  },
  {
   "cell_type": "code",
   "execution_count": null,
   "id": "bc539c90",
   "metadata": {},
   "outputs": [],
   "source": [
    "start_path= \"/nethome/kravicha3/aryan/project/dataset/Reddit_Provenance_Datasets/data/\"\n",
    "for dirpath, dirnames, filenames in os.walk(start_path):\n",
    "    for f in filenames:\n",
    "        fp = os.path.join(dirpath, f)\n",
    "        if not os.path.islink(fp):\n",
    "            cur.execute(f'LOAD IMAGE \"{fp}\" INTO reddit;')\n",
    "            res = cur.fetch_all()\n",
    "            print(res)"
   ]
  },
  {
   "cell_type": "code",
   "execution_count": null,
   "id": "9394b640",
   "metadata": {},
   "outputs": [],
   "source": [
    "cur.execute(\"SELECT * FROM reddit;\")\n",
    "res = cur.fetch_all()"
   ]
  },
  {
   "cell_type": "code",
   "execution_count": null,
   "id": "cb9ed264",
   "metadata": {},
   "outputs": [],
   "source": [
    "res"
   ]
  },
  {
   "cell_type": "markdown",
   "id": "1d21efed",
   "metadata": {},
   "source": [
    "#### Getting sqlite connect  \n",
    "\n",
    "    CREATE TABLE sqlite_schema(\n",
    "      type text,\n",
    "      name text,\n",
    "      tbl_name text,\n",
    "      rootpage integer,\n",
    "      sql text\n",
    "    );"
   ]
  },
  {
   "cell_type": "code",
   "execution_count": 8,
   "id": "9f48f42a",
   "metadata": {},
   "outputs": [],
   "source": [
    "import sqlite3\n",
    "con = sqlite3.connect('/nethome/kravicha3/.eva/0.1.5+dev/eva_catalog.db')"
   ]
  },
  {
   "cell_type": "code",
   "execution_count": 9,
   "id": "7a2bc9bd",
   "metadata": {},
   "outputs": [],
   "source": [
    "c = con.cursor()"
   ]
  },
  {
   "cell_type": "code",
   "execution_count": 10,
   "id": "4451f56b",
   "metadata": {},
   "outputs": [
    {
     "name": "stdout",
     "output_type": "stream",
     "text": [
      "('table', 'table_catalog', 'table_catalog', 2)\n",
      "\n",
      "('index', 'sqlite_autoindex_table_catalog_1', 'table_catalog', 3)\n",
      "\n",
      "('table', 'udf_catalog', 'udf_catalog', 4)\n",
      "\n",
      "('index', 'sqlite_autoindex_udf_catalog_1', 'udf_catalog', 5)\n",
      "\n",
      "('table', 'column_catalog', 'column_catalog', 6)\n",
      "\n",
      "('index', 'sqlite_autoindex_column_catalog_1', 'column_catalog', 7)\n",
      "\n",
      "('table', 'udfio_catalog', 'udfio_catalog', 8)\n",
      "\n",
      "('index', 'sqlite_autoindex_udfio_catalog_1', 'udfio_catalog', 9)\n",
      "\n",
      "('table', 'index_catalog', 'index_catalog', 10)\n",
      "\n",
      "('index', 'sqlite_autoindex_index_catalog_1', 'index_catalog', 11)\n",
      "\n",
      "('table', '192111ccbbbfc5042415841dfaa9f90a', '192111ccbbbfc5042415841dfaa9f90a', 12)\n",
      "\n"
     ]
    }
   ],
   "source": [
    "c.execute(\"SELECT * FROM sqlite_master;\")\n",
    "res = c.fetchall()\n",
    "for i in res:\n",
    "    print(i[:-1], end=\"\\n\\n\")"
   ]
  },
  {
   "cell_type": "code",
   "execution_count": 15,
   "id": "83b2d3e6",
   "metadata": {},
   "outputs": [
    {
     "name": "stdout",
     "output_type": "stream",
     "text": [
      "[(1, '/nethome/kravicha3/aryan/project/dataset/Reddit_Provenance_Datasets/data/_This_cat_plotting_to_kill_someone/g1327_czcqbl6.jpg')]\n"
     ]
    }
   ],
   "source": [
    "c.execute(\"SELECT * FROM '192111ccbbbfc5042415841dfaa9f90a' LIMIT 1;\")\n",
    "res = c.fetchall()\n",
    "print(res)"
   ]
  },
  {
   "cell_type": "code",
   "execution_count": 13,
   "id": "67c9e540",
   "metadata": {},
   "outputs": [
    {
     "name": "stdout",
     "output_type": "stream",
     "text": [
      "[(9801,)]\n"
     ]
    }
   ],
   "source": [
    "c.execute(\"SELECT COUNT(*) FROM '192111ccbbbfc5042415841dfaa9f90a';\")\n",
    "res = c.fetchall()\n",
    "print(res)"
   ]
  },
  {
   "cell_type": "markdown",
   "id": "81303b83",
   "metadata": {},
   "source": [
    "## Creating index"
   ]
  },
  {
   "cell_type": "code",
   "execution_count": 7,
   "id": "f0cc8e5d",
   "metadata": {},
   "outputs": [],
   "source": [
    "from IPython.core.magic import register_cell_magic\n",
    "\n",
    "from eva.server.db_api import connect\n",
    "import nest_asyncio\n",
    "\n",
    "nest_asyncio.apply()\n",
    "cur = connect(host=\"127.0.0.1\", port=5432).cursor()\n",
    "\n",
    "@register_cell_magic\n",
    "def evaql(line, cell):\n",
    "    x = cell.split(';')\n",
    "    for i in x[:-1]:\n",
    "        cur.execute(i)\n",
    "        res = cur.fetch_all()\n",
    "        print(res)"
   ]
  },
  {
   "cell_type": "code",
   "execution_count": 9,
   "id": "6a057c4b",
   "metadata": {},
   "outputs": [],
   "source": [
    "# %%evaql\n",
    "# CREATE UDF FeatureExtractor\n",
    "# INPUT  (frame NDARRAY UINT8(3, ANYDIM, ANYDIM))\n",
    "# OUTPUT (features NDARRAY FLOAT32(2, 1024))\n",
    "# TYPE  Classification\n",
    "# IMPL  './eva/udfs/feature_extractor.py';"
   ]
  },
  {
   "cell_type": "code",
   "execution_count": null,
   "id": "6355fc2a",
   "metadata": {},
   "outputs": [],
   "source": [
    "# %%evaql\n",
    "# CREATE INDEX dataindex ON reddit (FeatureExtractor(data)) USING HNSW;"
   ]
  },
  {
   "cell_type": "code",
   "execution_count": null,
   "id": "1d9c48ad",
   "metadata": {},
   "outputs": [],
   "source": [
    "# %%evaql\n",
    "# SELECT * FROM reddit;"
   ]
  },
  {
   "cell_type": "markdown",
   "id": "6c7534ce",
   "metadata": {},
   "source": [
    "### Seeing if index creation is complete\n",
    "no. of images = 10317"
   ]
  },
  {
   "cell_type": "code",
   "execution_count": 2,
   "id": "16263be5",
   "metadata": {},
   "outputs": [],
   "source": [
    "INDEX_HOME = \"/nethome/kravicha3/.eva/0.1.5+dev/index/\""
   ]
  },
  {
   "cell_type": "code",
   "execution_count": 3,
   "id": "76370dc9",
   "metadata": {},
   "outputs": [],
   "source": [
    "import faiss"
   ]
  },
  {
   "cell_type": "code",
   "execution_count": 5,
   "id": "fbebf841",
   "metadata": {},
   "outputs": [],
   "source": [
    "index = faiss.read_index(INDEX_HOME+\"HNSW_dataindex.index\")"
   ]
  },
  {
   "cell_type": "code",
   "execution_count": 6,
   "id": "5efa2890",
   "metadata": {},
   "outputs": [
    {
     "data": {
      "text/plain": [
       "9801"
      ]
     },
     "execution_count": 6,
     "metadata": {},
     "output_type": "execute_result"
    }
   ],
   "source": [
    "index.ntotal"
   ]
  },
  {
   "cell_type": "markdown",
   "id": "6bc348ed",
   "metadata": {},
   "source": [
    "### Checking Similarity search speed\n",
    "\n",
    "running query on eva_client\n",
    "\n",
    "ans: similarity search takes about 250 seconds per image."
   ]
  },
  {
   "cell_type": "code",
   "execution_count": 4,
   "id": "df33ccd8",
   "metadata": {},
   "outputs": [],
   "source": [
    "from IPython.core.magic import register_cell_magic\n",
    "\n",
    "from eva.server.db_api import connect\n",
    "import nest_asyncio\n",
    "\n",
    "nest_asyncio.apply()\n",
    "cur = connect(host=\"127.0.0.1\", port=5432).cursor()\n",
    "\n",
    "@register_cell_magic\n",
    "def evaql(line, cell):\n",
    "    x = cell.split(';')\n",
    "    for i in x[:-1]:\n",
    "        cur.execute(i)\n",
    "        res = cur.fetch_all()\n",
    "        print(res)"
   ]
  },
  {
   "cell_type": "code",
   "execution_count": 5,
   "id": "f22d3b86",
   "metadata": {},
   "outputs": [
    {
     "name": "stdout",
     "output_type": "stream",
     "text": [
      "@status: ResponseStatus.FAIL\n",
      "@batch: \n",
      " None\n",
      "@error: None\n"
     ]
    }
   ],
   "source": [
    "%%evaql\n",
    "SELECT * FROM reddit ORDER BY Similarity(FeatureExtractor(Open(\"/nethome/kravicha3/aryan/project/dataset/Reddit_Provenance_Datasets/data/_This_cat_plotting_to_kill_someone/g1327_czcqbl6.jpg\")), FeatureExtractor(data)) LIMIT 5;"
   ]
  },
  {
   "cell_type": "code",
   "execution_count": null,
   "id": "c56022c7",
   "metadata": {},
   "outputs": [],
   "source": []
  }
 ],
 "metadata": {
  "kernelspec": {
   "display_name": "Python 3 (ipykernel)",
   "language": "python",
   "name": "python3"
  },
  "language_info": {
   "codemirror_mode": {
    "name": "ipython",
    "version": 3
   },
   "file_extension": ".py",
   "mimetype": "text/x-python",
   "name": "python",
   "nbconvert_exporter": "python",
   "pygments_lexer": "ipython3",
   "version": "3.8.10"
  }
 },
 "nbformat": 4,
 "nbformat_minor": 5
}
