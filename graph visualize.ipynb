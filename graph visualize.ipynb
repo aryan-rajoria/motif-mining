{
 "cells": [
  {
   "cell_type": "code",
   "execution_count": 30,
   "id": "78a696fe",
   "metadata": {},
   "outputs": [],
   "source": [
    "import pandas as pd\n",
    "import numpy as np\n",
    "import faiss\n",
    "import os"
   ]
  },
  {
   "cell_type": "code",
   "execution_count": 8,
   "id": "f4d0258b",
   "metadata": {},
   "outputs": [],
   "source": [
    "df = pd.read_pickle(\"./hnsw_all_cluster.pkl\")"
   ]
  },
  {
   "cell_type": "code",
   "execution_count": 9,
   "id": "8dd360c6",
   "metadata": {},
   "outputs": [
    {
     "data": {
      "text/html": [
       "<div>\n",
       "<style scoped>\n",
       "    .dataframe tbody tr th:only-of-type {\n",
       "        vertical-align: middle;\n",
       "    }\n",
       "\n",
       "    .dataframe tbody tr th {\n",
       "        vertical-align: top;\n",
       "    }\n",
       "\n",
       "    .dataframe thead th {\n",
       "        text-align: right;\n",
       "    }\n",
       "</style>\n",
       "<table border=\"1\" class=\"dataframe\">\n",
       "  <thead>\n",
       "    <tr style=\"text-align: right;\">\n",
       "      <th></th>\n",
       "      <th>image_name</th>\n",
       "      <th>image_dir</th>\n",
       "      <th>results</th>\n",
       "      <th>image_features</th>\n",
       "      <th>cluster_id</th>\n",
       "    </tr>\n",
       "  </thead>\n",
       "  <tbody>\n",
       "    <tr>\n",
       "      <th>0</th>\n",
       "      <td>g1327_czcqbl6.jpg</td>\n",
       "      <td>/nethome/kravicha3/aryan/project/dataset/Reddi...</td>\n",
       "      <td>[1, 8887, 1415, 2028, 8885, 9459, 4633, 8590, ...</td>\n",
       "      <td>[[0.7295329, 0.30392087, 0.7336758, 0.41025618...</td>\n",
       "      <td>151</td>\n",
       "    </tr>\n",
       "  </tbody>\n",
       "</table>\n",
       "</div>"
      ],
      "text/plain": [
       "          image_name                                          image_dir  \\\n",
       "0  g1327_czcqbl6.jpg  /nethome/kravicha3/aryan/project/dataset/Reddi...   \n",
       "\n",
       "                                             results  \\\n",
       "0  [1, 8887, 1415, 2028, 8885, 9459, 4633, 8590, ...   \n",
       "\n",
       "                                      image_features  cluster_id  \n",
       "0  [[0.7295329, 0.30392087, 0.7336758, 0.41025618...         151  "
      ]
     },
     "execution_count": 9,
     "metadata": {},
     "output_type": "execute_result"
    }
   ],
   "source": [
    "df.head(1)"
   ]
  },
  {
   "cell_type": "code",
   "execution_count": 52,
   "id": "aaeca3bd",
   "metadata": {},
   "outputs": [
    {
     "name": "stdout",
     "output_type": "stream",
     "text": [
      "\n",
      "Clustering 10126 points in 2048D to 185 clusters, redo 1 times, 50 iterations\n",
      "  Preprocessing in 0.01 s\n",
      "  Iteration 49 (7.18 s, search 6.84 s): objective=353477 imbalance=1.512 nsplit=0       \r"
     ]
    },
    {
     "data": {
      "text/plain": [
       "353476.96875"
      ]
     },
     "execution_count": 52,
     "metadata": {},
     "output_type": "execute_result"
    }
   ],
   "source": [
    "# features from the dataframe\n",
    "df = pd.read_pickle('hnsw_all_image_results.pkl')\n",
    "features = np.array(df['image_features'].to_list())\n",
    "features = features.reshape(features.shape[0], features.shape[2])\n",
    "# cluster training\n",
    "ncentroids = 185\n",
    "niter = 50\n",
    "verbose = True\n",
    "d = features.shape[1]\n",
    "kmeans = faiss.Kmeans(d, ncentroids, niter=niter, verbose=verbose)\n",
    "kmeans.train(features)"
   ]
  },
  {
   "cell_type": "code",
   "execution_count": 53,
   "id": "88a170af",
   "metadata": {},
   "outputs": [],
   "source": [
    "index_cluster = faiss.IndexFlatL2 (d)\n",
    "index_cluster.add(features)\n",
    "D, I = index_cluster.search(kmeans.centroids, 100)"
   ]
  },
  {
   "cell_type": "code",
   "execution_count": 54,
   "id": "a1f0946c",
   "metadata": {},
   "outputs": [
    {
     "data": {
      "text/plain": [
       "(185, 100)"
      ]
     },
     "execution_count": 54,
     "metadata": {},
     "output_type": "execute_result"
    }
   ],
   "source": [
    "I.shape"
   ]
  },
  {
   "cell_type": "code",
   "execution_count": 55,
   "id": "b07d5ed0",
   "metadata": {},
   "outputs": [],
   "source": [
    "centroid_labels = []\n",
    "for centroid_id in range(I.shape[0]):\n",
    "    label = {}\n",
    "    for label_id in I[centroid_id]:\n",
    "        thread_dir = df.iloc[label_id]['image_dir']\n",
    "        thread_dir = os.path.split(thread_dir)[1]\n",
    "        if thread_dir in label:\n",
    "            label[thread_dir] += 1\n",
    "        else:\n",
    "            label[thread_dir] = 1\n",
    "    centroid_labels.append(label)"
   ]
  },
  {
   "cell_type": "code",
   "execution_count": 56,
   "id": "d5fd30ae",
   "metadata": {},
   "outputs": [
    {
     "data": {
      "text/plain": [
       "185"
      ]
     },
     "execution_count": 56,
     "metadata": {},
     "output_type": "execute_result"
    }
   ],
   "source": [
    "len(centroid_labels)"
   ]
  },
  {
   "cell_type": "code",
   "execution_count": 57,
   "id": "dc2d7dc7",
   "metadata": {},
   "outputs": [],
   "source": [
    "centroid_num_threads = []\n",
    "for centroid_id in range(len(centroid_labels)):\n",
    "    max_n = 0\n",
    "    max_l = \"\"\n",
    "    for i in centroid_labels[centroid_id]:\n",
    "        num = centroid_labels[centroid_id][i]\n",
    "        if num>max_n:\n",
    "            max_n = num\n",
    "            max_l = i\n",
    "    centroid_num_threads.append((max_n, max_l))"
   ]
  },
  {
   "cell_type": "code",
   "execution_count": 58,
   "id": "1207b168",
   "metadata": {},
   "outputs": [
    {
     "data": {
      "text/plain": [
       "[(27, '_Streaker_stealing_the_show_at_a_Tennis_game'),\n",
       " (3, '_Man_wearing_one_hundred_beanies'),\n",
       " (24, '_A_selfie_from_the_driver_of_the_Pope'),\n",
       " (16, '_Cat_Sitting_at_a_Desk_in_School'),\n",
       " (25, '_Sep_Blatter_after_a_protester_threw_money_at_him'),\n",
       " (34, '_Foggy_day'),\n",
       " (29, '_These_squirrels_fighting'),\n",
       " (9, '_Headless_hockey_player_and_terrified_referee'),\n",
       " (21, '_Dog_wearing_a_mask_at_a_dino_park'),\n",
       " (14, '_You_Catch_Your_Roommate_With_His_Pants_Down'),\n",
       " (21, '_Man_driving_his_Tricer-a-car'),\n",
       " (17, '_Group_of_Shaved_Llamas'),\n",
       " (29, '_These_piles_of_spice_at_a_market_in_Marrakesh'),\n",
       " (24, '_LeBron_James_holding_a_trophy'),\n",
       " (33, '_Man_observing_an_oil_painting_of_himself'),\n",
       " (17, '_Headless_hockey_player_and_terrified_referee'),\n",
       " (10, '_Dog_wearing_a_mask_at_a_dino_park'),\n",
       " (18, '_Shocked_Classic_Goofy'),\n",
       " (34, '_Tiger_standing_next_to_his_keeper'),\n",
       " (17, '_Adam_Savage_after_his_morning_workout'),\n",
       " (22, '_This_surprised_racoon'),\n",
       " (30, \"_North_Korea's_New_Untouched_Photo_of_Kim_Jong-Un\"),\n",
       " (9, '_Hotel_in_Japan_uses_dinosaur_robots_at_reception'),\n",
       " (27, '_Time_slice_photography_of_the_Moon_rising_over_Los_Angeles'),\n",
       " (13, '_Headless_hockey_player_and_terrified_referee'),\n",
       " (41, '_A_pawn_looking_in_the_mirror'),\n",
       " (9, '_My_friend_intense_drunk_dancing_at_a_wedding'),\n",
       " (8, '_Adam_Savage_after_his_morning_workout'),\n",
       " (25, '_Headless_hockey_player_and_terrified_referee'),\n",
       " (45, \"_Canadian_PM_Justin_Trudeau_hesitating_to_shake_Donald_Trump's_hand\"),\n",
       " (18,\n",
       "  '_Obama_wielding_a_lightsaber_in_front_of_the_White_House_while_others_look_on'),\n",
       " (20, '_LeBron_James_holding_a_trophy'),\n",
       " (22, '_Headless_hockey_player_and_terrified_referee'),\n",
       " (37, '_This_picture_of_Hillary_Clinton_and_Barack_Obama'),\n",
       " (13,\n",
       "  '_Hi-res,_non-watermarked_image_of_Harold_the_stock_photo_model_giving_a_thumbs_up'),\n",
       " (15, '_Margot_Robbie_excited_at_a_hockey_game'),\n",
       " (15, '_Bernie_Sanders_holding_a_cat'),\n",
       " (9,\n",
       "  'Finally,_I_found_a_sub_that_photoshops_battles_Can_someone_photoshop_a_battle_onto_this_epic_landscape?'),\n",
       " (21, '_A_Stack_of_Red-Eye_Tree_Frogs'),\n",
       " (30, '_Burrowing_Owls_spot_a_camera'),\n",
       " (21, '_A_baby_turtle_tucked_away_in_its_shell'),\n",
       " (37, 'Kid_running_from_guy_in_mankini'),\n",
       " (6, '_Carrie_Fisher_as_Slave_Leia_in_the_ocean'),\n",
       " (21,\n",
       "  '_Will_Ferrell_hits_an_NBA_cheerleader_in_the_face_with_a_basketball_during_a_movie_shoot'),\n",
       " (16, '_Hand_of_God_over_Portugal'),\n",
       " (20, '_Headless_hockey_player_and_terrified_referee'),\n",
       " (25, '_LeBron_James_holding_a_trophy'),\n",
       " (17, '_Poorly_Drawn_Wikihow_Family'),\n",
       " (18, '_Headless_hockey_player_and_terrified_referee'),\n",
       " (18, '_This_guy_dancing'),\n",
       " (8, '_Runners_crossing_the_finish_line'),\n",
       " (22, '_Headless_hockey_player_and_terrified_referee'),\n",
       " (22, '_This_happy_family'),\n",
       " (20, '_Headless_hockey_player_and_terrified_referee'),\n",
       " (5, '_Shotput_thrower_straining_himself'),\n",
       " (15, '_Headless_hockey_player_and_terrified_referee'),\n",
       " (21, '_This_beautifully_lined_up_eight_headed_selfie'),\n",
       " (10, '_News_interns_running_out_with_Supreme_Court_ruling_on_gay-marriage'),\n",
       " (26, '_LeBron_James_holding_a_trophy'),\n",
       " (19, '_This_guy_dancing'),\n",
       " (24, '_Alexis_Ohanian_(CEO_and_founder_of_reddit)_holding_a_sign'),\n",
       " (30, '_Man_observing_an_oil_painting_of_himself'),\n",
       " (23, '_This_surprised_racoon'),\n",
       " (19, '_Headless_hockey_player_and_terrified_referee'),\n",
       " (8, '_A_pawn_looking_in_the_mirror'),\n",
       " (16, '_Girl_holding_a_Toblerone_creating_optical_illusion'),\n",
       " (17, '_a_frog_riding_a_beetle'),\n",
       " (25, '_This_rainbow_woman_on_the_beach'),\n",
       " (43, '_These_squirrels_fighting'),\n",
       " (17,\n",
       "  '_Roller-blading_girl_in_shorts_getting_checked_out_by_cyclist_police_officer'),\n",
       " (34, '_Two_People_Looking_At_Nice_View'),\n",
       " (28, \"_Cat_outside_in_the_snow,_posing_with_it's_paw_on_it's_chest\"),\n",
       " (26, '_This_Nutella_stick_with_great_hair'),\n",
       " (25, \"_Basketball_Kid_doesn't_know_what_he's_doing\"),\n",
       " (23, '_Headless_hockey_player_and_terrified_referee'),\n",
       " (12, '_Wombat_in_a_field'),\n",
       " (34, '_Norm_MacDonald_as_the_New_Colonel_Sanders'),\n",
       " (20, '_Headless_hockey_player_and_terrified_referee'),\n",
       " (22, '_Headless_hockey_player_and_terrified_referee'),\n",
       " (26, '_Jeremy_Clarkson_laughing_at_Chris_Evans'),\n",
       " (21, '_This_surprised_racoon'),\n",
       " (30, '_Happy_dude_with_his_grumpy_pug'),\n",
       " (34, '_Tiger_standing_next_to_his_keeper'),\n",
       " (31,\n",
       "  '_Swedens_prime_minister_is_sad_and_left_out_while_other_party_leaders_having_fun_during_congress'),\n",
       " (32, \"_Cat_outside_in_the_snow,_posing_with_it's_paw_on_it's_chest\"),\n",
       " (32,\n",
       "  '_An_elderly_woman_observes_a_young_topless_woman_wearing_body_paint_in_Times_Square_(NSFW)'),\n",
       " (23, '_This_eagle_with_wings_spread'),\n",
       " (15,\n",
       "  '_Obama_wielding_a_lightsaber_in_front_of_the_White_House_while_others_look_on'),\n",
       " (15, '_These_piles_of_spice_at_a_market_in_Marrakesh'),\n",
       " (19, '_Carrie_Fisher_as_Slave_Leia_in_the_ocean'),\n",
       " (22, '_Headless_hockey_player_and_terrified_referee'),\n",
       " (9, '_A_Blue_Swimmer_Crab_showing_off_his_claws'),\n",
       " (23, 'Otter_running_towards_camera'),\n",
       " (27, '_Girl_holding_a_Toblerone_creating_optical_illusion'),\n",
       " (13, '_A_low-flying_kestrel_in_mid-flap'),\n",
       " (22, '_LeBron_James_holding_a_trophy'),\n",
       " (13, '_Dog_with_Cat_mask'),\n",
       " (42, '_Mount_Etna_Eruption'),\n",
       " (7,\n",
       "  '_An_elderly_woman_observes_a_young_topless_woman_wearing_body_paint_in_Times_Square_(NSFW)'),\n",
       " (23, '_Headless_hockey_player_and_terrified_referee'),\n",
       " (27, '_Sad_old_man_wearing_a_cap_with_obscene_language_on_it'),\n",
       " (5, '_Radical_hate_teacher,_Anjem_Choudary'),\n",
       " (32, 'Otter_running_towards_camera'),\n",
       " (35, '_Poorly_Drawn_Wikihow_Family'),\n",
       " (24, '_This_ridiculously_photogenic_neanderthal'),\n",
       " (30, '_Man_observing_an_oil_painting_of_himself'),\n",
       " (4, '_Albino_squirrel_leaning_on_a_screw'),\n",
       " (40, '_Mount_Etna_Eruption'),\n",
       " (31, '_Man_with_a_very_long_carrot'),\n",
       " (16, 'A_seal_with_a_data-logger_on_its_head_(x-post_from_r_funny)'),\n",
       " (34, '_Bernie_Sanders_browsing_reddit'),\n",
       " (33,\n",
       "  'Finally,_I_found_a_sub_that_photoshops_battles_Can_someone_photoshop_a_battle_onto_this_epic_landscape?'),\n",
       " (21, '_Perfectly_round_snowball'),\n",
       " (12, '_Palestinian_man_taking_selfie_while_Israeli_police_chase_him'),\n",
       " (21, '_Two_People_Looking_At_Nice_View'),\n",
       " (24, '_LeBron_James_holding_a_trophy'),\n",
       " (13, \"_This_kid's_face_in_a_magnifying_plate\"),\n",
       " (7, '_Drinking_Poop_Water'),\n",
       " (15, '_Trump_trying_to_close_his_pen'),\n",
       " (19, '_Headless_hockey_player_and_terrified_referee'),\n",
       " (39, '_You_Catch_Your_Roommate_With_His_Pants_Down'),\n",
       " (34, '_This_picture_of_a_man_with_a_beard_looking_straight_up'),\n",
       " (16, '_Dog_with_Cat_mask'),\n",
       " (18, '_Bride_cutting_through_her_chastity_belt'),\n",
       " (11, '_This_man_sleeping_in_the_office_in_front_of_his_colleagues'),\n",
       " (39, '_Bernie_Sanders_browsing_reddit'),\n",
       " (32, '_Robert_Downey,_Jr_getting_his_license_picture_taken_at_the_DMV'),\n",
       " (22, '_This_surprised_racoon'),\n",
       " (23, '_This_happy_family'),\n",
       " (22, '_Headless_hockey_player_and_terrified_referee'),\n",
       " (40, '_This_teacher_from_my_Facebook_feed'),\n",
       " (31, '_Man_holding_confused_dog'),\n",
       " (14, '_Cheering_hedgehog_(xpost_from_r_aww)'),\n",
       " (11,\n",
       "  \"_Australia's_Immigration_minister_Peter_Dutton_wants_this_photo_removed\"),\n",
       " (18, '_Poorly_Drawn_Wikihow_Family'),\n",
       " (24, '_Fox_having_a_go_in_front_of_a_camera'),\n",
       " (20, '_Stephen_Colbert_with_a_drink_on_the_bus'),\n",
       " (37, '_lunch_date_with_Lakers_girls_winner'),\n",
       " (19, '_Poorly_Drawn_Wikihow_Family'),\n",
       " (28, '_Perplexed_Bill_Nye'),\n",
       " (18, '_This_surprised_racoon'),\n",
       " (8, '_Dog_with_Cat_mask'),\n",
       " (43, '_Trump_trying_to_close_his_pen'),\n",
       " (11, '_LeBron_James_holding_a_trophy'),\n",
       " (6, '_This_man_sleeping_in_the_office_in_front_of_his_colleagues'),\n",
       " (34, '_A_selfie_from_the_driver_of_the_Pope'),\n",
       " (10, '_Palestinian_man_taking_selfie_while_Israeli_police_chase_him'),\n",
       " (62, \"_Canadian_PM_Justin_Trudeau_hesitating_to_shake_Donald_Trump's_hand\"),\n",
       " (34, '_Streaker_stealing_the_show_at_a_Tennis_game'),\n",
       " (15, '_You_Catch_Your_Roommate_With_His_Pants_Down'),\n",
       " (22, '_This_surprised_racoon'),\n",
       " (24, '_Bride_cutting_through_her_chastity_belt'),\n",
       " (24, '_LeBron_James_holding_a_trophy'),\n",
       " (34, '_The_Supreme_Leader_wears_a_fedora_and_gives_a_dancing_lesson'),\n",
       " (30, '_Man_observing_an_oil_painting_of_himself'),\n",
       " (23, '_Headless_hockey_player_and_terrified_referee'),\n",
       " (34, \"_Basketball_Kid_doesn't_know_what_he's_doing\"),\n",
       " (7, '_Headless_hockey_player_and_terrified_referee'),\n",
       " (15, '_Pole_Vault_winner_in_the_air'),\n",
       " (27, '_Headless_hockey_player_and_terrified_referee'),\n",
       " (43, '_You_Catch_Your_Roommate_With_His_Pants_Down'),\n",
       " (9, '_Hand_of_God_over_Portugal'),\n",
       " (9, '_This_surprised_racoon'),\n",
       " (39, \"_Canadian_PM_Justin_Trudeau_hesitating_to_shake_Donald_Trump's_hand\"),\n",
       " (18, '_lunch_date_with_Lakers_girls_winner'),\n",
       " (30, '_This_teacher_from_my_Facebook_feed'),\n",
       " (6,\n",
       "  '_Hi-res,_non-watermarked_image_of_Harold_the_stock_photo_model_giving_a_thumbs_up'),\n",
       " (6, '_Poorly_Drawn_Wikihow_Family'),\n",
       " (27, '_Runners_crossing_the_finish_line'),\n",
       " (10, '_Man_driving_his_Tricer-a-car'),\n",
       " (22, '_This_surprised_racoon'),\n",
       " (26, '_Palestinian_man_taking_selfie_while_Israeli_police_chase_him'),\n",
       " (16, '_No_Vladimir,_you_hang_up_first'),\n",
       " (20, '_Trump_trying_to_close_his_pen'),\n",
       " (36,\n",
       "  \"_Emilia_Clarke's_reaction_to_Kristen_Wiig_playing_Khaleesi_on_Tonight_with_Jimmy_Fallon\"),\n",
       " (7, '_Dressed_up_church_in_the_Netherlands'),\n",
       " (14, '_This_surprised_racoon'),\n",
       " (17,\n",
       "  '_Will_Ferrell_hits_an_NBA_cheerleader_in_the_face_with_a_basketball_during_a_movie_shoot'),\n",
       " (36, '_News_interns_running_out_with_Supreme_Court_ruling_on_gay-marriage'),\n",
       " (6, '_Albino_squirrel_leaning_on_a_screw'),\n",
       " (29, '_This_teacher_from_my_Facebook_feed'),\n",
       " (33, '_Palestinian_man_taking_selfie_while_Israeli_police_chase_him'),\n",
       " (21, '_Headless_hockey_player_and_terrified_referee'),\n",
       " (16, '_A_New_Zealand_Lamb'),\n",
       " (15, '_Bunny_Bathed_in_Light')]"
      ]
     },
     "execution_count": 58,
     "metadata": {},
     "output_type": "execute_result"
    }
   ],
   "source": [
    "centroid_num_threads"
   ]
  },
  {
   "cell_type": "markdown",
   "id": "c3142495",
   "metadata": {},
   "source": [
    "### Recall"
   ]
  },
  {
   "cell_type": "code",
   "execution_count": null,
   "id": "9e9c2ac5",
   "metadata": {},
   "outputs": [],
   "source": []
  }
 ],
 "metadata": {
  "kernelspec": {
   "display_name": "Python 3 (ipykernel)",
   "language": "python",
   "name": "python3"
  },
  "language_info": {
   "codemirror_mode": {
    "name": "ipython",
    "version": 3
   },
   "file_extension": ".py",
   "mimetype": "text/x-python",
   "name": "python",
   "nbconvert_exporter": "python",
   "pygments_lexer": "ipython3",
   "version": "3.8.10"
  }
 },
 "nbformat": 4,
 "nbformat_minor": 5
}
