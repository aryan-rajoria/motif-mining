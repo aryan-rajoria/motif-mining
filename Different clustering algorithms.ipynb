{
 "cells": [
  {
   "cell_type": "code",
   "execution_count": 1,
   "id": "301b50a9",
   "metadata": {},
   "outputs": [
    {
     "name": "stdout",
     "output_type": "stream",
     "text": [
      "cuda:0\n"
     ]
    }
   ],
   "source": [
    "import faiss\n",
    "import os\n",
    "import numpy as np\n",
    "import pandas as pd\n",
    "\n",
    "import torch\n",
    "from torch import Tensor\n",
    "from torchvision import models\n",
    "\n",
    "from torchvision.transforms import Compose, transforms\n",
    "from PIL import Image\n",
    "import cv2\n",
    "import sqlite3\n",
    "\n",
    "device = torch.device(\"cuda:0\" if torch.cuda.is_available() else \"cpu\")\n",
    "print(device)"
   ]
  },
  {
   "cell_type": "code",
   "execution_count": 2,
   "id": "daa56cef",
   "metadata": {},
   "outputs": [],
   "source": [
    "df = pd.read_pickle('hnsw_all_image_results.pkl')"
   ]
  },
  {
   "cell_type": "code",
   "execution_count": 16,
   "id": "5d7a1655",
   "metadata": {},
   "outputs": [],
   "source": [
    "img_features = df['image_features']\n",
    "\n",
    "img_features = np.array(img_features.to_list())\n",
    "img_features = img_features.reshape(img_features.shape[0], img_features.shape[2])"
   ]
  },
  {
   "cell_type": "code",
   "execution_count": 17,
   "id": "1ba73e19",
   "metadata": {},
   "outputs": [
    {
     "data": {
      "text/plain": [
       "(10126, 2048)"
      ]
     },
     "execution_count": 17,
     "metadata": {},
     "output_type": "execute_result"
    }
   ],
   "source": [
    "img_features.shape"
   ]
  },
  {
   "cell_type": "code",
   "execution_count": 18,
   "id": "e72d6673",
   "metadata": {},
   "outputs": [],
   "source": [
    "# all image features will be in X\n",
    "X = img_features"
   ]
  },
  {
   "cell_type": "markdown",
   "id": "9a6aa0c2",
   "metadata": {},
   "source": [
    "## Trying DBSCAN"
   ]
  },
  {
   "cell_type": "code",
   "execution_count": 113,
   "id": "e47e71e0",
   "metadata": {},
   "outputs": [],
   "source": [
    "from sklearn.cluster import DBSCAN\n",
    "\n",
    "dbscan_cluster = DBSCAN(eps=3, min_samples=10).fit(X)"
   ]
  },
  {
   "cell_type": "code",
   "execution_count": 114,
   "id": "d9e5b486",
   "metadata": {},
   "outputs": [
    {
     "data": {
      "text/plain": [
       "array([ -1,  -1,   0, ..., 105, 105, 105])"
      ]
     },
     "execution_count": 114,
     "metadata": {},
     "output_type": "execute_result"
    }
   ],
   "source": [
    "dbscan_cluster.labels_"
   ]
  },
  {
   "cell_type": "code",
   "execution_count": 115,
   "id": "a5ec557f",
   "metadata": {},
   "outputs": [
    {
     "data": {
      "text/plain": [
       "105"
      ]
     },
     "execution_count": 115,
     "metadata": {},
     "output_type": "execute_result"
    }
   ],
   "source": [
    "max(dbscan_cluster.labels_)"
   ]
  },
  {
   "cell_type": "code",
   "execution_count": 116,
   "id": "0ee252fd",
   "metadata": {},
   "outputs": [],
   "source": [
    "df['cluster_id'] = dbscan_cluster.labels_"
   ]
  },
  {
   "cell_type": "markdown",
   "id": "1424a3b4",
   "metadata": {},
   "source": [
    "#### Accuracy"
   ]
  },
  {
   "cell_type": "code",
   "execution_count": 117,
   "id": "6a7970a6",
   "metadata": {},
   "outputs": [],
   "source": [
    "centroid_dataframe = pd.DataFrame(columns=[\"label\", \"num_correct\", \"num_total\", \"all_labels_list\"])\n",
    "for cluster_id in range(-1, max(dbscan_cluster.labels_)+1):\n",
    "    # maximum image_dir\n",
    "    predictions_for_centroid = df[df['cluster_id'] == cluster_id]\n",
    "    value_counts = predictions_for_centroid['image_dir'].value_counts()\n",
    "    \n",
    "    labels = list()\n",
    "    for row_id in value_counts.index:\n",
    "        labels.append((os.path.split(row_id)[1], value_counts[row_id]))\n",
    "    \n",
    "    centroid_dataframe.loc[len(centroid_dataframe.index)] = [labels[0][0], labels[0][1], sum(value_counts), labels]"
   ]
  },
  {
   "cell_type": "code",
   "execution_count": 118,
   "id": "68575c50",
   "metadata": {},
   "outputs": [
    {
     "data": {
      "text/html": [
       "<div>\n",
       "<style scoped>\n",
       "    .dataframe tbody tr th:only-of-type {\n",
       "        vertical-align: middle;\n",
       "    }\n",
       "\n",
       "    .dataframe tbody tr th {\n",
       "        vertical-align: top;\n",
       "    }\n",
       "\n",
       "    .dataframe thead th {\n",
       "        text-align: right;\n",
       "    }\n",
       "</style>\n",
       "<table border=\"1\" class=\"dataframe\">\n",
       "  <thead>\n",
       "    <tr style=\"text-align: right;\">\n",
       "      <th></th>\n",
       "      <th>label</th>\n",
       "      <th>num_correct</th>\n",
       "      <th>num_total</th>\n",
       "      <th>all_labels_list</th>\n",
       "    </tr>\n",
       "  </thead>\n",
       "  <tbody>\n",
       "    <tr>\n",
       "      <th>0</th>\n",
       "      <td>_Robert_Mugabe_falling_from_his_podium</td>\n",
       "      <td>80</td>\n",
       "      <td>8140</td>\n",
       "      <td>[(_Robert_Mugabe_falling_from_his_podium, 80),...</td>\n",
       "    </tr>\n",
       "    <tr>\n",
       "      <th>1</th>\n",
       "      <td>_This_cat_plotting_to_kill_someone</td>\n",
       "      <td>14</td>\n",
       "      <td>14</td>\n",
       "      <td>[(_This_cat_plotting_to_kill_someone, 14)]</td>\n",
       "    </tr>\n",
       "    <tr>\n",
       "      <th>2</th>\n",
       "      <td>_This_happy_family</td>\n",
       "      <td>21</td>\n",
       "      <td>21</td>\n",
       "      <td>[(_This_happy_family, 21)]</td>\n",
       "    </tr>\n",
       "    <tr>\n",
       "      <th>3</th>\n",
       "      <td>_Trump_trying_to_close_his_pen</td>\n",
       "      <td>36</td>\n",
       "      <td>36</td>\n",
       "      <td>[(_Trump_trying_to_close_his_pen, 36)]</td>\n",
       "    </tr>\n",
       "    <tr>\n",
       "      <th>4</th>\n",
       "      <td>_Dog_with_Cat_mask</td>\n",
       "      <td>10</td>\n",
       "      <td>10</td>\n",
       "      <td>[(_Dog_with_Cat_mask, 10)]</td>\n",
       "    </tr>\n",
       "    <tr>\n",
       "      <th>...</th>\n",
       "      <td>...</td>\n",
       "      <td>...</td>\n",
       "      <td>...</td>\n",
       "      <td>...</td>\n",
       "    </tr>\n",
       "    <tr>\n",
       "      <th>102</th>\n",
       "      <td>_Japanese_astronaut_looking_through_a_water_bu...</td>\n",
       "      <td>13</td>\n",
       "      <td>13</td>\n",
       "      <td>[(_Japanese_astronaut_looking_through_a_water_...</td>\n",
       "    </tr>\n",
       "    <tr>\n",
       "      <th>103</th>\n",
       "      <td>_A_New_Zealand_Lamb</td>\n",
       "      <td>10</td>\n",
       "      <td>10</td>\n",
       "      <td>[(_A_New_Zealand_Lamb, 10)]</td>\n",
       "    </tr>\n",
       "    <tr>\n",
       "      <th>104</th>\n",
       "      <td>_Ridiculously_photogenic_volleyball_player</td>\n",
       "      <td>14</td>\n",
       "      <td>14</td>\n",
       "      <td>[(_Ridiculously_photogenic_volleyball_player, ...</td>\n",
       "    </tr>\n",
       "    <tr>\n",
       "      <th>105</th>\n",
       "      <td>_A_guy_throwing_a_frisbee_really_hard</td>\n",
       "      <td>12</td>\n",
       "      <td>12</td>\n",
       "      <td>[(_A_guy_throwing_a_frisbee_really_hard, 12)]</td>\n",
       "    </tr>\n",
       "    <tr>\n",
       "      <th>106</th>\n",
       "      <td>_A_man_standing_on_a_subway_vent</td>\n",
       "      <td>10</td>\n",
       "      <td>10</td>\n",
       "      <td>[(_A_man_standing_on_a_subway_vent, 10)]</td>\n",
       "    </tr>\n",
       "  </tbody>\n",
       "</table>\n",
       "<p>107 rows × 4 columns</p>\n",
       "</div>"
      ],
      "text/plain": [
       "                                                 label  num_correct  \\\n",
       "0               _Robert_Mugabe_falling_from_his_podium           80   \n",
       "1                   _This_cat_plotting_to_kill_someone           14   \n",
       "2                                   _This_happy_family           21   \n",
       "3                       _Trump_trying_to_close_his_pen           36   \n",
       "4                                   _Dog_with_Cat_mask           10   \n",
       "..                                                 ...          ...   \n",
       "102  _Japanese_astronaut_looking_through_a_water_bu...           13   \n",
       "103                                _A_New_Zealand_Lamb           10   \n",
       "104         _Ridiculously_photogenic_volleyball_player           14   \n",
       "105              _A_guy_throwing_a_frisbee_really_hard           12   \n",
       "106                   _A_man_standing_on_a_subway_vent           10   \n",
       "\n",
       "     num_total                                    all_labels_list  \n",
       "0         8140  [(_Robert_Mugabe_falling_from_his_podium, 80),...  \n",
       "1           14         [(_This_cat_plotting_to_kill_someone, 14)]  \n",
       "2           21                         [(_This_happy_family, 21)]  \n",
       "3           36             [(_Trump_trying_to_close_his_pen, 36)]  \n",
       "4           10                         [(_Dog_with_Cat_mask, 10)]  \n",
       "..         ...                                                ...  \n",
       "102         13  [(_Japanese_astronaut_looking_through_a_water_...  \n",
       "103         10                        [(_A_New_Zealand_Lamb, 10)]  \n",
       "104         14  [(_Ridiculously_photogenic_volleyball_player, ...  \n",
       "105         12      [(_A_guy_throwing_a_frisbee_really_hard, 12)]  \n",
       "106         10           [(_A_man_standing_on_a_subway_vent, 10)]  \n",
       "\n",
       "[107 rows x 4 columns]"
      ]
     },
     "execution_count": 118,
     "metadata": {},
     "output_type": "execute_result"
    }
   ],
   "source": [
    "centroid_dataframe"
   ]
  },
  {
   "cell_type": "markdown",
   "id": "26c37a7a",
   "metadata": {},
   "source": [
    "## OPTICS"
   ]
  },
  {
   "cell_type": "code",
   "execution_count": 124,
   "id": "402ad906",
   "metadata": {},
   "outputs": [],
   "source": [
    "from sklearn.cluster import OPTICS\n",
    "\n",
    "optic_cluster = OPTICS(n_jobs=50).fit(X)"
   ]
  },
  {
   "cell_type": "code",
   "execution_count": 125,
   "id": "7cb6d4b1",
   "metadata": {},
   "outputs": [
    {
     "data": {
      "text/plain": [
       "array([ -1,  -1, 178, ...,  66,  66,  66])"
      ]
     },
     "execution_count": 125,
     "metadata": {},
     "output_type": "execute_result"
    }
   ],
   "source": [
    "optic_cluster.labels_"
   ]
  },
  {
   "cell_type": "code",
   "execution_count": 126,
   "id": "acea6186",
   "metadata": {},
   "outputs": [],
   "source": [
    "df['cluster_id'] = optic_cluster.labels_"
   ]
  },
  {
   "cell_type": "code",
   "execution_count": 127,
   "id": "9076fa56",
   "metadata": {},
   "outputs": [
    {
     "data": {
      "text/plain": [
       "226"
      ]
     },
     "execution_count": 127,
     "metadata": {},
     "output_type": "execute_result"
    }
   ],
   "source": [
    "max(optic_cluster.labels_)"
   ]
  },
  {
   "cell_type": "code",
   "execution_count": 128,
   "id": "45cc76b4",
   "metadata": {},
   "outputs": [],
   "source": [
    "centroid_dataframe = pd.DataFrame(columns=[\"label\", \"num_correct\", \"num_total\", \"all_labels_list\"])\n",
    "for cluster_id in range(-1, max(dbscan_cluster.labels_)+1):\n",
    "    # maximum image_dir\n",
    "    predictions_for_centroid = df[df['cluster_id'] == cluster_id]\n",
    "    value_counts = predictions_for_centroid['image_dir'].value_counts()\n",
    "    \n",
    "    labels = list()\n",
    "    for row_id in value_counts.index:\n",
    "        labels.append((os.path.split(row_id)[1], value_counts[row_id]))\n",
    "    \n",
    "    centroid_dataframe.loc[len(centroid_dataframe.index)] = [labels[0][0], labels[0][1], sum(value_counts), labels]"
   ]
  },
  {
   "cell_type": "code",
   "execution_count": 129,
   "id": "5c2dd0e2",
   "metadata": {},
   "outputs": [
    {
     "data": {
      "text/html": [
       "<div>\n",
       "<style scoped>\n",
       "    .dataframe tbody tr th:only-of-type {\n",
       "        vertical-align: middle;\n",
       "    }\n",
       "\n",
       "    .dataframe tbody tr th {\n",
       "        vertical-align: top;\n",
       "    }\n",
       "\n",
       "    .dataframe thead th {\n",
       "        text-align: right;\n",
       "    }\n",
       "</style>\n",
       "<table border=\"1\" class=\"dataframe\">\n",
       "  <thead>\n",
       "    <tr style=\"text-align: right;\">\n",
       "      <th></th>\n",
       "      <th>label</th>\n",
       "      <th>num_correct</th>\n",
       "      <th>num_total</th>\n",
       "      <th>all_labels_list</th>\n",
       "    </tr>\n",
       "  </thead>\n",
       "  <tbody>\n",
       "    <tr>\n",
       "      <th>0</th>\n",
       "      <td>_Peter_Dinklage_riding_a_scooter</td>\n",
       "      <td>73</td>\n",
       "      <td>7257</td>\n",
       "      <td>[(_Peter_Dinklage_riding_a_scooter, 73), (_Rob...</td>\n",
       "    </tr>\n",
       "    <tr>\n",
       "      <th>1</th>\n",
       "      <td>_Weightlifter_jumping_up_after_a_successful_lift</td>\n",
       "      <td>13</td>\n",
       "      <td>14</td>\n",
       "      <td>[(_Weightlifter_jumping_up_after_a_successful_...</td>\n",
       "    </tr>\n",
       "    <tr>\n",
       "      <th>2</th>\n",
       "      <td>_Headless_hockey_player_and_terrified_referee</td>\n",
       "      <td>8</td>\n",
       "      <td>8</td>\n",
       "      <td>[(_Headless_hockey_player_and_terrified_refere...</td>\n",
       "    </tr>\n",
       "    <tr>\n",
       "      <th>3</th>\n",
       "      <td>_This_teacher_from_my_Facebook_feed</td>\n",
       "      <td>5</td>\n",
       "      <td>5</td>\n",
       "      <td>[(_This_teacher_from_my_Facebook_feed, 5)]</td>\n",
       "    </tr>\n",
       "    <tr>\n",
       "      <th>4</th>\n",
       "      <td>_Obama_wielding_a_lightsaber_in_front_of_the_W...</td>\n",
       "      <td>13</td>\n",
       "      <td>14</td>\n",
       "      <td>[(_Obama_wielding_a_lightsaber_in_front_of_the...</td>\n",
       "    </tr>\n",
       "    <tr>\n",
       "      <th>...</th>\n",
       "      <td>...</td>\n",
       "      <td>...</td>\n",
       "      <td>...</td>\n",
       "      <td>...</td>\n",
       "    </tr>\n",
       "    <tr>\n",
       "      <th>102</th>\n",
       "      <td>_Albino_squirrel_leaning_on_a_screw</td>\n",
       "      <td>6</td>\n",
       "      <td>6</td>\n",
       "      <td>[(_Albino_squirrel_leaning_on_a_screw, 6)]</td>\n",
       "    </tr>\n",
       "    <tr>\n",
       "      <th>103</th>\n",
       "      <td>_A_guy_throwing_a_frisbee_really_hard</td>\n",
       "      <td>13</td>\n",
       "      <td>13</td>\n",
       "      <td>[(_A_guy_throwing_a_frisbee_really_hard, 13)]</td>\n",
       "    </tr>\n",
       "    <tr>\n",
       "      <th>104</th>\n",
       "      <td>_A_guy_throwing_a_frisbee_really_hard</td>\n",
       "      <td>8</td>\n",
       "      <td>8</td>\n",
       "      <td>[(_A_guy_throwing_a_frisbee_really_hard, 8)]</td>\n",
       "    </tr>\n",
       "    <tr>\n",
       "      <th>105</th>\n",
       "      <td>_2016_Olympic_Ping_Pong</td>\n",
       "      <td>13</td>\n",
       "      <td>13</td>\n",
       "      <td>[(_2016_Olympic_Ping_Pong, 13)]</td>\n",
       "    </tr>\n",
       "    <tr>\n",
       "      <th>106</th>\n",
       "      <td>_Hand_of_God_over_Portugal</td>\n",
       "      <td>13</td>\n",
       "      <td>16</td>\n",
       "      <td>[(_Hand_of_God_over_Portugal, 13), (_This_Cat,...</td>\n",
       "    </tr>\n",
       "  </tbody>\n",
       "</table>\n",
       "<p>107 rows × 4 columns</p>\n",
       "</div>"
      ],
      "text/plain": [
       "                                                 label  num_correct  \\\n",
       "0                     _Peter_Dinklage_riding_a_scooter           73   \n",
       "1     _Weightlifter_jumping_up_after_a_successful_lift           13   \n",
       "2        _Headless_hockey_player_and_terrified_referee            8   \n",
       "3                  _This_teacher_from_my_Facebook_feed            5   \n",
       "4    _Obama_wielding_a_lightsaber_in_front_of_the_W...           13   \n",
       "..                                                 ...          ...   \n",
       "102                _Albino_squirrel_leaning_on_a_screw            6   \n",
       "103              _A_guy_throwing_a_frisbee_really_hard           13   \n",
       "104              _A_guy_throwing_a_frisbee_really_hard            8   \n",
       "105                            _2016_Olympic_Ping_Pong           13   \n",
       "106                         _Hand_of_God_over_Portugal           13   \n",
       "\n",
       "     num_total                                    all_labels_list  \n",
       "0         7257  [(_Peter_Dinklage_riding_a_scooter, 73), (_Rob...  \n",
       "1           14  [(_Weightlifter_jumping_up_after_a_successful_...  \n",
       "2            8  [(_Headless_hockey_player_and_terrified_refere...  \n",
       "3            5         [(_This_teacher_from_my_Facebook_feed, 5)]  \n",
       "4           14  [(_Obama_wielding_a_lightsaber_in_front_of_the...  \n",
       "..         ...                                                ...  \n",
       "102          6         [(_Albino_squirrel_leaning_on_a_screw, 6)]  \n",
       "103         13      [(_A_guy_throwing_a_frisbee_really_hard, 13)]  \n",
       "104          8       [(_A_guy_throwing_a_frisbee_really_hard, 8)]  \n",
       "105         13                    [(_2016_Olympic_Ping_Pong, 13)]  \n",
       "106         16  [(_Hand_of_God_over_Portugal, 13), (_This_Cat,...  \n",
       "\n",
       "[107 rows x 4 columns]"
      ]
     },
     "execution_count": 129,
     "metadata": {},
     "output_type": "execute_result"
    }
   ],
   "source": [
    "centroid_dataframe"
   ]
  },
  {
   "cell_type": "markdown",
   "id": "a470604b",
   "metadata": {},
   "source": [
    "## Trying Model training after PCA"
   ]
  },
  {
   "cell_type": "code",
   "execution_count": 130,
   "id": "43e6ca26",
   "metadata": {},
   "outputs": [],
   "source": [
    "from sklearn.decomposition import PCA\n",
    "\n",
    "pca = PCA(n_components=100, random_state=22)\n",
    "pca.fit(X)\n",
    "pca_x = pca.transform(X)"
   ]
  },
  {
   "cell_type": "code",
   "execution_count": 133,
   "id": "1e9e5f61",
   "metadata": {},
   "outputs": [
    {
     "data": {
      "text/plain": [
       "(10126, 100)"
      ]
     },
     "execution_count": 133,
     "metadata": {},
     "output_type": "execute_result"
    }
   ],
   "source": [
    "pca_x.shape"
   ]
  },
  {
   "cell_type": "code",
   "execution_count": 132,
   "id": "5f607acb",
   "metadata": {},
   "outputs": [
    {
     "name": "stdout",
     "output_type": "stream",
     "text": [
      "Clustering 10126 points in 100D to 256 clusters, redo 1 times, 50 iterations\n",
      "  Preprocessing in 0.00 s\n",
      "  Iteration 49 (0.70 s, search 0.66 s): objective=257574 imbalance=1.342 nsplit=0       \r"
     ]
    },
    {
     "data": {
      "text/plain": [
       "257574.46875"
      ]
     },
     "execution_count": 132,
     "metadata": {},
     "output_type": "execute_result"
    }
   ],
   "source": [
    "# cluster training\n",
    "ncentroids = 256\n",
    "niter = 50\n",
    "verbose = True\n",
    "d = pca_x.shape[1]\n",
    "kmeans = faiss.Kmeans(d, ncentroids, niter=niter, verbose=verbose, gpu=True)\n",
    "kmeans.train(pca_x)"
   ]
  },
  {
   "cell_type": "code",
   "execution_count": 135,
   "id": "82770666",
   "metadata": {},
   "outputs": [],
   "source": [
    "D, I = kmeans.index.search(pca_x, 1)\n",
    "I.reshape(I.shape[0])\n",
    "df['cluster_id'] = I"
   ]
  },
  {
   "cell_type": "code",
   "execution_count": 136,
   "id": "596e9006",
   "metadata": {},
   "outputs": [],
   "source": [
    "centroid_dataframe = pd.DataFrame(columns=[\"label\", \"num_correct\", \"num_total\", \"all_labels_list\"])\n",
    "for cluster_id in range(ncentroids):\n",
    "    # maximum image_dir\n",
    "    predictions_for_centroid = df[df['cluster_id'] == cluster_id]\n",
    "    value_counts = predictions_for_centroid['image_dir'].value_counts()\n",
    "    \n",
    "    labels = list()\n",
    "    for row_id in value_counts.index:\n",
    "        labels.append((os.path.split(row_id)[1], value_counts[row_id]))\n",
    "    \n",
    "    centroid_dataframe.loc[len(centroid_dataframe.index)] = [labels[0][0], labels[0][1], sum(value_counts), labels]\n",
    "    "
   ]
  },
  {
   "cell_type": "code",
   "execution_count": 138,
   "id": "a3c6f2d6",
   "metadata": {},
   "outputs": [
    {
     "data": {
      "text/plain": [
       "0.3296464546711436"
      ]
     },
     "execution_count": 138,
     "metadata": {},
     "output_type": "execute_result"
    }
   ],
   "source": [
    "sum(centroid_dataframe['num_correct'])/sum(centroid_dataframe['num_total'])"
   ]
  },
  {
   "cell_type": "markdown",
   "id": "667134dc",
   "metadata": {},
   "source": [
    "## DBSCAN PCA"
   ]
  },
  {
   "cell_type": "code",
   "execution_count": 356,
   "id": "f661fd5e",
   "metadata": {},
   "outputs": [],
   "source": [
    "from sklearn.decomposition import PCA\n",
    "\n",
    "pca = PCA(n_components=10, random_state=22)\n",
    "pca.fit(X)\n",
    "pca_x = pca.transform(X)"
   ]
  },
  {
   "cell_type": "code",
   "execution_count": 414,
   "id": "77b8ae8b",
   "metadata": {},
   "outputs": [
    {
     "name": "stdout",
     "output_type": "stream",
     "text": [
      "for min_samples=1: cluster=6793 and outliers=1\n",
      "accuracy =  0.9515061728395062\n",
      "for min_samples=2: cluster=729 and outliers=6064\n",
      "accuracy =  0.879064039408867\n"
     ]
    }
   ],
   "source": [
    "for i in np.arange(1,3,1):\n",
    "    dbscan_cluster = DBSCAN(eps=1.5, min_samples=i).fit(pca_x)\n",
    "    num_clusters = max(dbscan_cluster.labels_)\n",
    "    num_outliers = np.unique(dbscan_cluster.labels_, return_counts=True)[1][0]\n",
    "    print(f\"for min_samples={i}: cluster={num_clusters} and outliers={num_outliers}\")\n",
    "    \n",
    "    df['cluster_id'] = dbscan_cluster.labels_\n",
    "    \n",
    "    centroid_dataframe = pd.DataFrame(columns=[\"label\", \"num_correct\", \"num_total\", \"all_labels_list\"])\n",
    "    for cluster_id in range(max(dbscan_cluster.labels_)):\n",
    "        # maximum image_dir\n",
    "        predictions_for_centroid = df[df['cluster_id'] == cluster_id]\n",
    "        value_counts = predictions_for_centroid['image_dir'].value_counts()\n",
    "\n",
    "        labels = list()\n",
    "        for row_id in value_counts.index:\n",
    "            labels.append((os.path.split(row_id)[1], value_counts[row_id]))\n",
    "\n",
    "        centroid_dataframe.loc[len(centroid_dataframe.index)] = [labels[0][0], labels[0][1], sum(value_counts), labels]\n",
    "        \n",
    "    print(\"accuracy = \",sum(centroid_dataframe['num_correct'])/sum(centroid_dataframe['num_total']))"
   ]
  },
  {
   "cell_type": "code",
   "execution_count": 415,
   "id": "97160244",
   "metadata": {},
   "outputs": [],
   "source": [
    "dbscan_cluster = DBSCAN(eps=1.5, min_samples=1).fit(pca_x)"
   ]
  },
  {
   "cell_type": "code",
   "execution_count": 416,
   "id": "532136b1",
   "metadata": {},
   "outputs": [
    {
     "data": {
      "text/plain": [
       "1"
      ]
     },
     "execution_count": 416,
     "metadata": {},
     "output_type": "execute_result"
    }
   ],
   "source": [
    "np.unique(dbscan_cluster.labels_, return_counts=True)[1][0]"
   ]
  },
  {
   "cell_type": "code",
   "execution_count": 417,
   "id": "dc546753",
   "metadata": {},
   "outputs": [
    {
     "data": {
      "text/plain": [
       "6793"
      ]
     },
     "execution_count": 417,
     "metadata": {},
     "output_type": "execute_result"
    }
   ],
   "source": [
    "max(dbscan_cluster.labels_)"
   ]
  },
  {
   "cell_type": "code",
   "execution_count": 418,
   "id": "d3b2518a",
   "metadata": {},
   "outputs": [
    {
     "data": {
      "text/plain": [
       "array([   0,    1,    2, ..., 4513, 4513, 4513])"
      ]
     },
     "execution_count": 418,
     "metadata": {},
     "output_type": "execute_result"
    }
   ],
   "source": [
    "dbscan_cluster.labels_"
   ]
  },
  {
   "cell_type": "code",
   "execution_count": 419,
   "id": "7fd84322",
   "metadata": {},
   "outputs": [],
   "source": [
    "df['cluster_id'] = dbscan_cluster.labels_"
   ]
  },
  {
   "cell_type": "code",
   "execution_count": 420,
   "id": "fc7d8739",
   "metadata": {},
   "outputs": [],
   "source": [
    "centroid_dataframe = pd.DataFrame(columns=[\"label\", \"num_correct\", \"num_total\", \"all_labels_list\"])\n",
    "for cluster_id in range(max(dbscan_cluster.labels_)):\n",
    "    # maximum image_dir\n",
    "    predictions_for_centroid = df[df['cluster_id'] == cluster_id]\n",
    "    value_counts = predictions_for_centroid['image_dir'].value_counts()\n",
    "    \n",
    "    labels = list()\n",
    "    for row_id in value_counts.index:\n",
    "        labels.append((os.path.split(row_id)[1], value_counts[row_id]))\n",
    "    \n",
    "    centroid_dataframe.loc[len(centroid_dataframe.index)] = [labels[0][0], labels[0][1], sum(value_counts), labels]\n",
    "    "
   ]
  },
  {
   "cell_type": "code",
   "execution_count": 421,
   "id": "3dbd5345",
   "metadata": {},
   "outputs": [],
   "source": [
    "centroid_dataframe['accuracy'] = centroid_dataframe['num_correct']/centroid_dataframe['num_total']"
   ]
  },
  {
   "cell_type": "code",
   "execution_count": 422,
   "id": "6c108f31",
   "metadata": {},
   "outputs": [
    {
     "data": {
      "text/html": [
       "<div>\n",
       "<style scoped>\n",
       "    .dataframe tbody tr th:only-of-type {\n",
       "        vertical-align: middle;\n",
       "    }\n",
       "\n",
       "    .dataframe tbody tr th {\n",
       "        vertical-align: top;\n",
       "    }\n",
       "\n",
       "    .dataframe thead th {\n",
       "        text-align: right;\n",
       "    }\n",
       "</style>\n",
       "<table border=\"1\" class=\"dataframe\">\n",
       "  <thead>\n",
       "    <tr style=\"text-align: right;\">\n",
       "      <th></th>\n",
       "      <th>label</th>\n",
       "      <th>num_correct</th>\n",
       "      <th>num_total</th>\n",
       "      <th>all_labels_list</th>\n",
       "      <th>accuracy</th>\n",
       "    </tr>\n",
       "  </thead>\n",
       "  <tbody>\n",
       "    <tr>\n",
       "      <th>4247</th>\n",
       "      <td>_Meerkats_under_a_heating_lamp</td>\n",
       "      <td>1</td>\n",
       "      <td>6</td>\n",
       "      <td>[(_Meerkats_under_a_heating_lamp, 1), (_Kid_in...</td>\n",
       "      <td>0.166667</td>\n",
       "    </tr>\n",
       "    <tr>\n",
       "      <th>595</th>\n",
       "      <td>_My_tortoise_trying_to_eat_a_bolt</td>\n",
       "      <td>2</td>\n",
       "      <td>11</td>\n",
       "      <td>[(_My_tortoise_trying_to_eat_a_bolt, 2), (_Thi...</td>\n",
       "      <td>0.181818</td>\n",
       "    </tr>\n",
       "    <tr>\n",
       "      <th>66</th>\n",
       "      <td>_This_happy_family</td>\n",
       "      <td>1</td>\n",
       "      <td>5</td>\n",
       "      <td>[(_This_happy_family, 1), (_This_guy_dancing, ...</td>\n",
       "      <td>0.200000</td>\n",
       "    </tr>\n",
       "    <tr>\n",
       "      <th>2548</th>\n",
       "      <td>_Ewan_McGregor_on_a_greenscreen_set_in_a_green...</td>\n",
       "      <td>1</td>\n",
       "      <td>4</td>\n",
       "      <td>[(_Ewan_McGregor_on_a_greenscreen_set_in_a_gre...</td>\n",
       "      <td>0.250000</td>\n",
       "    </tr>\n",
       "    <tr>\n",
       "      <th>2161</th>\n",
       "      <td>_RDJ_in_a_bunny_costume</td>\n",
       "      <td>1</td>\n",
       "      <td>4</td>\n",
       "      <td>[(_RDJ_in_a_bunny_costume, 1), (_Peter_Dinklag...</td>\n",
       "      <td>0.250000</td>\n",
       "    </tr>\n",
       "    <tr>\n",
       "      <th>427</th>\n",
       "      <td>_Dodging_a_ball</td>\n",
       "      <td>1</td>\n",
       "      <td>4</td>\n",
       "      <td>[(_Dodging_a_ball, 1), (_This_eggplant_with_ar...</td>\n",
       "      <td>0.250000</td>\n",
       "    </tr>\n",
       "    <tr>\n",
       "      <th>808</th>\n",
       "      <td>_Keanu_Reeves_sitting_awkwardly_on_a_rock_in_t...</td>\n",
       "      <td>1</td>\n",
       "      <td>4</td>\n",
       "      <td>[(_Keanu_Reeves_sitting_awkwardly_on_a_rock_in...</td>\n",
       "      <td>0.250000</td>\n",
       "    </tr>\n",
       "    <tr>\n",
       "      <th>1466</th>\n",
       "      <td>_Jennifer_Lawrence_playing_basketball</td>\n",
       "      <td>1</td>\n",
       "      <td>4</td>\n",
       "      <td>[(_Jennifer_Lawrence_playing_basketball, 1), (...</td>\n",
       "      <td>0.250000</td>\n",
       "    </tr>\n",
       "    <tr>\n",
       "      <th>270</th>\n",
       "      <td>_This_Cat,_Drinking_From_a_Bird_Bath</td>\n",
       "      <td>1</td>\n",
       "      <td>4</td>\n",
       "      <td>[(_This_Cat,_Drinking_From_a_Bird_Bath, 1), (_...</td>\n",
       "      <td>0.250000</td>\n",
       "    </tr>\n",
       "    <tr>\n",
       "      <th>910</th>\n",
       "      <td>_A_basket_ball_that_has_been_sprayed_with_Vant...</td>\n",
       "      <td>1</td>\n",
       "      <td>3</td>\n",
       "      <td>[(_A_basket_ball_that_has_been_sprayed_with_Va...</td>\n",
       "      <td>0.333333</td>\n",
       "    </tr>\n",
       "    <tr>\n",
       "      <th>1908</th>\n",
       "      <td>_Man_wearing_one_hundred_beanies</td>\n",
       "      <td>1</td>\n",
       "      <td>3</td>\n",
       "      <td>[(_Man_wearing_one_hundred_beanies, 1), (_Peng...</td>\n",
       "      <td>0.333333</td>\n",
       "    </tr>\n",
       "    <tr>\n",
       "      <th>3334</th>\n",
       "      <td>_My_friend_intense_drunk_dancing_at_a_wedding</td>\n",
       "      <td>1</td>\n",
       "      <td>3</td>\n",
       "      <td>[(_My_friend_intense_drunk_dancing_at_a_weddin...</td>\n",
       "      <td>0.333333</td>\n",
       "    </tr>\n",
       "    <tr>\n",
       "      <th>181</th>\n",
       "      <td>_Dog_with_Cat_mask</td>\n",
       "      <td>1</td>\n",
       "      <td>3</td>\n",
       "      <td>[(_Dog_with_Cat_mask, 1), (_This_chubby_squirr...</td>\n",
       "      <td>0.333333</td>\n",
       "    </tr>\n",
       "    <tr>\n",
       "      <th>825</th>\n",
       "      <td>_Keanu_Reeves_sitting_awkwardly_on_a_rock_in_t...</td>\n",
       "      <td>1</td>\n",
       "      <td>3</td>\n",
       "      <td>[(_Keanu_Reeves_sitting_awkwardly_on_a_rock_in...</td>\n",
       "      <td>0.333333</td>\n",
       "    </tr>\n",
       "    <tr>\n",
       "      <th>2415</th>\n",
       "      <td>_A_dehydrated_pumpkin</td>\n",
       "      <td>1</td>\n",
       "      <td>3</td>\n",
       "      <td>[(_A_dehydrated_pumpkin, 1), (_Wet_cat_peeking...</td>\n",
       "      <td>0.333333</td>\n",
       "    </tr>\n",
       "    <tr>\n",
       "      <th>2419</th>\n",
       "      <td>_A_dehydrated_pumpkin</td>\n",
       "      <td>1</td>\n",
       "      <td>3</td>\n",
       "      <td>[(_A_dehydrated_pumpkin, 1), (_Nicolas_Cage_in...</td>\n",
       "      <td>0.333333</td>\n",
       "    </tr>\n",
       "    <tr>\n",
       "      <th>2814</th>\n",
       "      <td>_No_Vladimir,_you_hang_up_first</td>\n",
       "      <td>1</td>\n",
       "      <td>3</td>\n",
       "      <td>[(_No_Vladimir,_you_hang_up_first, 1), (_Boy_i...</td>\n",
       "      <td>0.333333</td>\n",
       "    </tr>\n",
       "    <tr>\n",
       "      <th>676</th>\n",
       "      <td>_Donald_Trump_in_a_Bathrobe</td>\n",
       "      <td>1</td>\n",
       "      <td>3</td>\n",
       "      <td>[(_Donald_Trump_in_a_Bathrobe, 1), (_Nessie_th...</td>\n",
       "      <td>0.333333</td>\n",
       "    </tr>\n",
       "    <tr>\n",
       "      <th>4085</th>\n",
       "      <td>_Happy_dog_looking_upward</td>\n",
       "      <td>1</td>\n",
       "      <td>3</td>\n",
       "      <td>[(_Happy_dog_looking_upward, 1), (_Australia's...</td>\n",
       "      <td>0.333333</td>\n",
       "    </tr>\n",
       "    <tr>\n",
       "      <th>1452</th>\n",
       "      <td>_North_Korea's_New_Untouched_Photo_of_Kim_Jong-Un</td>\n",
       "      <td>1</td>\n",
       "      <td>3</td>\n",
       "      <td>[(_North_Korea's_New_Untouched_Photo_of_Kim_Jo...</td>\n",
       "      <td>0.333333</td>\n",
       "    </tr>\n",
       "  </tbody>\n",
       "</table>\n",
       "</div>"
      ],
      "text/plain": [
       "                                                  label  num_correct  \\\n",
       "4247                     _Meerkats_under_a_heating_lamp            1   \n",
       "595                   _My_tortoise_trying_to_eat_a_bolt            2   \n",
       "66                                   _This_happy_family            1   \n",
       "2548  _Ewan_McGregor_on_a_greenscreen_set_in_a_green...            1   \n",
       "2161                            _RDJ_in_a_bunny_costume            1   \n",
       "427                                     _Dodging_a_ball            1   \n",
       "808   _Keanu_Reeves_sitting_awkwardly_on_a_rock_in_t...            1   \n",
       "1466              _Jennifer_Lawrence_playing_basketball            1   \n",
       "270                _This_Cat,_Drinking_From_a_Bird_Bath            1   \n",
       "910   _A_basket_ball_that_has_been_sprayed_with_Vant...            1   \n",
       "1908                   _Man_wearing_one_hundred_beanies            1   \n",
       "3334      _My_friend_intense_drunk_dancing_at_a_wedding            1   \n",
       "181                                  _Dog_with_Cat_mask            1   \n",
       "825   _Keanu_Reeves_sitting_awkwardly_on_a_rock_in_t...            1   \n",
       "2415                              _A_dehydrated_pumpkin            1   \n",
       "2419                              _A_dehydrated_pumpkin            1   \n",
       "2814                    _No_Vladimir,_you_hang_up_first            1   \n",
       "676                         _Donald_Trump_in_a_Bathrobe            1   \n",
       "4085                          _Happy_dog_looking_upward            1   \n",
       "1452  _North_Korea's_New_Untouched_Photo_of_Kim_Jong-Un            1   \n",
       "\n",
       "      num_total                                    all_labels_list  accuracy  \n",
       "4247          6  [(_Meerkats_under_a_heating_lamp, 1), (_Kid_in...  0.166667  \n",
       "595          11  [(_My_tortoise_trying_to_eat_a_bolt, 2), (_Thi...  0.181818  \n",
       "66            5  [(_This_happy_family, 1), (_This_guy_dancing, ...  0.200000  \n",
       "2548          4  [(_Ewan_McGregor_on_a_greenscreen_set_in_a_gre...  0.250000  \n",
       "2161          4  [(_RDJ_in_a_bunny_costume, 1), (_Peter_Dinklag...  0.250000  \n",
       "427           4  [(_Dodging_a_ball, 1), (_This_eggplant_with_ar...  0.250000  \n",
       "808           4  [(_Keanu_Reeves_sitting_awkwardly_on_a_rock_in...  0.250000  \n",
       "1466          4  [(_Jennifer_Lawrence_playing_basketball, 1), (...  0.250000  \n",
       "270           4  [(_This_Cat,_Drinking_From_a_Bird_Bath, 1), (_...  0.250000  \n",
       "910           3  [(_A_basket_ball_that_has_been_sprayed_with_Va...  0.333333  \n",
       "1908          3  [(_Man_wearing_one_hundred_beanies, 1), (_Peng...  0.333333  \n",
       "3334          3  [(_My_friend_intense_drunk_dancing_at_a_weddin...  0.333333  \n",
       "181           3  [(_Dog_with_Cat_mask, 1), (_This_chubby_squirr...  0.333333  \n",
       "825           3  [(_Keanu_Reeves_sitting_awkwardly_on_a_rock_in...  0.333333  \n",
       "2415          3  [(_A_dehydrated_pumpkin, 1), (_Wet_cat_peeking...  0.333333  \n",
       "2419          3  [(_A_dehydrated_pumpkin, 1), (_Nicolas_Cage_in...  0.333333  \n",
       "2814          3  [(_No_Vladimir,_you_hang_up_first, 1), (_Boy_i...  0.333333  \n",
       "676           3  [(_Donald_Trump_in_a_Bathrobe, 1), (_Nessie_th...  0.333333  \n",
       "4085          3  [(_Happy_dog_looking_upward, 1), (_Australia's...  0.333333  \n",
       "1452          3  [(_North_Korea's_New_Untouched_Photo_of_Kim_Jo...  0.333333  "
      ]
     },
     "execution_count": 422,
     "metadata": {},
     "output_type": "execute_result"
    }
   ],
   "source": [
    "centroid_dataframe.sort_values(by=['accuracy'], ascending=True).head(20)"
   ]
  },
  {
   "cell_type": "code",
   "execution_count": 423,
   "id": "2c1714d6",
   "metadata": {},
   "outputs": [
    {
     "data": {
      "text/html": [
       "<div>\n",
       "<style scoped>\n",
       "    .dataframe tbody tr th:only-of-type {\n",
       "        vertical-align: middle;\n",
       "    }\n",
       "\n",
       "    .dataframe tbody tr th {\n",
       "        vertical-align: top;\n",
       "    }\n",
       "\n",
       "    .dataframe thead th {\n",
       "        text-align: right;\n",
       "    }\n",
       "</style>\n",
       "<table border=\"1\" class=\"dataframe\">\n",
       "  <thead>\n",
       "    <tr style=\"text-align: right;\">\n",
       "      <th></th>\n",
       "      <th>label</th>\n",
       "      <th>num_correct</th>\n",
       "      <th>num_total</th>\n",
       "      <th>all_labels_list</th>\n",
       "      <th>accuracy</th>\n",
       "    </tr>\n",
       "  </thead>\n",
       "  <tbody>\n",
       "    <tr>\n",
       "      <th>1195</th>\n",
       "      <td>_Canadian_PM_Justin_Trudeau_hesitating_to_shak...</td>\n",
       "      <td>58</td>\n",
       "      <td>113</td>\n",
       "      <td>[(_Canadian_PM_Justin_Trudeau_hesitating_to_sh...</td>\n",
       "      <td>0.513274</td>\n",
       "    </tr>\n",
       "    <tr>\n",
       "      <th>1305</th>\n",
       "      <td>_This_picture_of_Hillary_Clinton_and_Barack_Obama</td>\n",
       "      <td>36</td>\n",
       "      <td>55</td>\n",
       "      <td>[(_This_picture_of_Hillary_Clinton_and_Barack_...</td>\n",
       "      <td>0.654545</td>\n",
       "    </tr>\n",
       "  </tbody>\n",
       "</table>\n",
       "</div>"
      ],
      "text/plain": [
       "                                                  label  num_correct  \\\n",
       "1195  _Canadian_PM_Justin_Trudeau_hesitating_to_shak...           58   \n",
       "1305  _This_picture_of_Hillary_Clinton_and_Barack_Obama           36   \n",
       "\n",
       "      num_total                                    all_labels_list  accuracy  \n",
       "1195        113  [(_Canadian_PM_Justin_Trudeau_hesitating_to_sh...  0.513274  \n",
       "1305         55  [(_This_picture_of_Hillary_Clinton_and_Barack_...  0.654545  "
      ]
     },
     "execution_count": 423,
     "metadata": {},
     "output_type": "execute_result"
    }
   ],
   "source": [
    "centroid_dataframe[centroid_dataframe['num_total']>50]"
   ]
  },
  {
   "cell_type": "code",
   "execution_count": 424,
   "id": "f7136c64",
   "metadata": {},
   "outputs": [
    {
     "data": {
      "text/plain": [
       "0.9515061728395062"
      ]
     },
     "execution_count": 424,
     "metadata": {},
     "output_type": "execute_result"
    }
   ],
   "source": [
    "sum(centroid_dataframe['num_correct'])/sum(centroid_dataframe['num_total'])"
   ]
  },
  {
   "cell_type": "code",
   "execution_count": null,
   "id": "fb5ea1e9",
   "metadata": {},
   "outputs": [],
   "source": []
  }
 ],
 "metadata": {
  "kernelspec": {
   "display_name": "Python 3 (ipykernel)",
   "language": "python",
   "name": "python3"
  },
  "language_info": {
   "codemirror_mode": {
    "name": "ipython",
    "version": 3
   },
   "file_extension": ".py",
   "mimetype": "text/x-python",
   "name": "python",
   "nbconvert_exporter": "python",
   "pygments_lexer": "ipython3",
   "version": "3.8.10"
  }
 },
 "nbformat": 4,
 "nbformat_minor": 5
}
