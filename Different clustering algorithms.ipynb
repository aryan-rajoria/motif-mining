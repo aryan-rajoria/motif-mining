{
 "cells": [
  {
   "cell_type": "code",
   "execution_count": 1,
   "id": "8ee85a2d",
   "metadata": {},
   "outputs": [
    {
     "name": "stdout",
     "output_type": "stream",
     "text": [
      "cuda:0\n"
     ]
    }
   ],
   "source": [
    "import faiss\n",
    "import os\n",
    "import numpy as np\n",
    "import pandas as pd\n",
    "\n",
    "import torch\n",
    "from torch import Tensor\n",
    "from torchvision import models\n",
    "\n",
    "from torchvision.transforms import Compose, transforms\n",
    "from PIL import Image\n",
    "import cv2\n",
    "import sqlite3\n",
    "\n",
    "device = torch.device(\"cuda:0\" if torch.cuda.is_available() else \"cpu\")\n",
    "print(device)"
   ]
  },
  {
   "cell_type": "code",
   "execution_count": 2,
   "id": "2d257409",
   "metadata": {},
   "outputs": [],
   "source": [
    "df = pd.read_pickle('hnsw_all_image_results.pkl')"
   ]
  },
  {
   "cell_type": "code",
   "execution_count": 16,
   "id": "e7a972f6",
   "metadata": {},
   "outputs": [],
   "source": [
    "img_features = df['image_features']\n",
    "\n",
    "img_features = np.array(img_features.to_list())\n",
    "img_features = img_features.reshape(img_features.shape[0], img_features.shape[2])"
   ]
  },
  {
   "cell_type": "code",
   "execution_count": 17,
   "id": "6397372a",
   "metadata": {},
   "outputs": [
    {
     "data": {
      "text/plain": [
       "(10126, 2048)"
      ]
     },
     "execution_count": 17,
     "metadata": {},
     "output_type": "execute_result"
    }
   ],
   "source": [
    "img_features.shape"
   ]
  },
  {
   "cell_type": "code",
   "execution_count": 18,
   "id": "7defbce5",
   "metadata": {},
   "outputs": [],
   "source": [
    "# all image features will be in X\n",
    "X = img_features"
   ]
  },
  {
   "cell_type": "markdown",
   "id": "577e1fe2",
   "metadata": {},
   "source": [
    "## Trying DBSCAN"
   ]
  },
  {
   "cell_type": "code",
   "execution_count": 113,
   "id": "a274e443",
   "metadata": {},
   "outputs": [],
   "source": [
    "from sklearn.cluster import DBSCAN\n",
    "\n",
    "dbscan_cluster = DBSCAN(eps=3, min_samples=10).fit(X)"
   ]
  },
  {
   "cell_type": "code",
   "execution_count": 114,
   "id": "730e24cc",
   "metadata": {},
   "outputs": [
    {
     "data": {
      "text/plain": [
       "array([ -1,  -1,   0, ..., 105, 105, 105])"
      ]
     },
     "execution_count": 114,
     "metadata": {},
     "output_type": "execute_result"
    }
   ],
   "source": [
    "dbscan_cluster.labels_"
   ]
  },
  {
   "cell_type": "code",
   "execution_count": 115,
   "id": "237ba07e",
   "metadata": {},
   "outputs": [
    {
     "data": {
      "text/plain": [
       "105"
      ]
     },
     "execution_count": 115,
     "metadata": {},
     "output_type": "execute_result"
    }
   ],
   "source": [
    "max(dbscan_cluster.labels_)"
   ]
  },
  {
   "cell_type": "code",
   "execution_count": 116,
   "id": "c274405c",
   "metadata": {},
   "outputs": [],
   "source": [
    "df['cluster_id'] = dbscan_cluster.labels_"
   ]
  },
  {
   "cell_type": "markdown",
   "id": "bbdc724d",
   "metadata": {},
   "source": [
    "#### Accuracy"
   ]
  },
  {
   "cell_type": "code",
   "execution_count": 117,
   "id": "48bd9b15",
   "metadata": {},
   "outputs": [],
   "source": [
    "centroid_dataframe = pd.DataFrame(columns=[\"label\", \"num_correct\", \"num_total\", \"all_labels_list\"])\n",
    "for cluster_id in range(-1, max(dbscan_cluster.labels_)+1):\n",
    "    # maximum image_dir\n",
    "    predictions_for_centroid = df[df['cluster_id'] == cluster_id]\n",
    "    value_counts = predictions_for_centroid['image_dir'].value_counts()\n",
    "    \n",
    "    labels = list()\n",
    "    for row_id in value_counts.index:\n",
    "        labels.append((os.path.split(row_id)[1], value_counts[row_id]))\n",
    "    \n",
    "    centroid_dataframe.loc[len(centroid_dataframe.index)] = [labels[0][0], labels[0][1], sum(value_counts), labels]"
   ]
  },
  {
   "cell_type": "code",
   "execution_count": 118,
   "id": "c04410b8",
   "metadata": {},
   "outputs": [
    {
     "data": {
      "text/html": [
       "<div>\n",
       "<style scoped>\n",
       "    .dataframe tbody tr th:only-of-type {\n",
       "        vertical-align: middle;\n",
       "    }\n",
       "\n",
       "    .dataframe tbody tr th {\n",
       "        vertical-align: top;\n",
       "    }\n",
       "\n",
       "    .dataframe thead th {\n",
       "        text-align: right;\n",
       "    }\n",
       "</style>\n",
       "<table border=\"1\" class=\"dataframe\">\n",
       "  <thead>\n",
       "    <tr style=\"text-align: right;\">\n",
       "      <th></th>\n",
       "      <th>label</th>\n",
       "      <th>num_correct</th>\n",
       "      <th>num_total</th>\n",
       "      <th>all_labels_list</th>\n",
       "    </tr>\n",
       "  </thead>\n",
       "  <tbody>\n",
       "    <tr>\n",
       "      <th>0</th>\n",
       "      <td>_Robert_Mugabe_falling_from_his_podium</td>\n",
       "      <td>80</td>\n",
       "      <td>8140</td>\n",
       "      <td>[(_Robert_Mugabe_falling_from_his_podium, 80),...</td>\n",
       "    </tr>\n",
       "    <tr>\n",
       "      <th>1</th>\n",
       "      <td>_This_cat_plotting_to_kill_someone</td>\n",
       "      <td>14</td>\n",
       "      <td>14</td>\n",
       "      <td>[(_This_cat_plotting_to_kill_someone, 14)]</td>\n",
       "    </tr>\n",
       "    <tr>\n",
       "      <th>2</th>\n",
       "      <td>_This_happy_family</td>\n",
       "      <td>21</td>\n",
       "      <td>21</td>\n",
       "      <td>[(_This_happy_family, 21)]</td>\n",
       "    </tr>\n",
       "    <tr>\n",
       "      <th>3</th>\n",
       "      <td>_Trump_trying_to_close_his_pen</td>\n",
       "      <td>36</td>\n",
       "      <td>36</td>\n",
       "      <td>[(_Trump_trying_to_close_his_pen, 36)]</td>\n",
       "    </tr>\n",
       "    <tr>\n",
       "      <th>4</th>\n",
       "      <td>_Dog_with_Cat_mask</td>\n",
       "      <td>10</td>\n",
       "      <td>10</td>\n",
       "      <td>[(_Dog_with_Cat_mask, 10)]</td>\n",
       "    </tr>\n",
       "    <tr>\n",
       "      <th>...</th>\n",
       "      <td>...</td>\n",
       "      <td>...</td>\n",
       "      <td>...</td>\n",
       "      <td>...</td>\n",
       "    </tr>\n",
       "    <tr>\n",
       "      <th>102</th>\n",
       "      <td>_Japanese_astronaut_looking_through_a_water_bu...</td>\n",
       "      <td>13</td>\n",
       "      <td>13</td>\n",
       "      <td>[(_Japanese_astronaut_looking_through_a_water_...</td>\n",
       "    </tr>\n",
       "    <tr>\n",
       "      <th>103</th>\n",
       "      <td>_A_New_Zealand_Lamb</td>\n",
       "      <td>10</td>\n",
       "      <td>10</td>\n",
       "      <td>[(_A_New_Zealand_Lamb, 10)]</td>\n",
       "    </tr>\n",
       "    <tr>\n",
       "      <th>104</th>\n",
       "      <td>_Ridiculously_photogenic_volleyball_player</td>\n",
       "      <td>14</td>\n",
       "      <td>14</td>\n",
       "      <td>[(_Ridiculously_photogenic_volleyball_player, ...</td>\n",
       "    </tr>\n",
       "    <tr>\n",
       "      <th>105</th>\n",
       "      <td>_A_guy_throwing_a_frisbee_really_hard</td>\n",
       "      <td>12</td>\n",
       "      <td>12</td>\n",
       "      <td>[(_A_guy_throwing_a_frisbee_really_hard, 12)]</td>\n",
       "    </tr>\n",
       "    <tr>\n",
       "      <th>106</th>\n",
       "      <td>_A_man_standing_on_a_subway_vent</td>\n",
       "      <td>10</td>\n",
       "      <td>10</td>\n",
       "      <td>[(_A_man_standing_on_a_subway_vent, 10)]</td>\n",
       "    </tr>\n",
       "  </tbody>\n",
       "</table>\n",
       "<p>107 rows × 4 columns</p>\n",
       "</div>"
      ],
      "text/plain": [
       "                                                 label  num_correct  \\\n",
       "0               _Robert_Mugabe_falling_from_his_podium           80   \n",
       "1                   _This_cat_plotting_to_kill_someone           14   \n",
       "2                                   _This_happy_family           21   \n",
       "3                       _Trump_trying_to_close_his_pen           36   \n",
       "4                                   _Dog_with_Cat_mask           10   \n",
       "..                                                 ...          ...   \n",
       "102  _Japanese_astronaut_looking_through_a_water_bu...           13   \n",
       "103                                _A_New_Zealand_Lamb           10   \n",
       "104         _Ridiculously_photogenic_volleyball_player           14   \n",
       "105              _A_guy_throwing_a_frisbee_really_hard           12   \n",
       "106                   _A_man_standing_on_a_subway_vent           10   \n",
       "\n",
       "     num_total                                    all_labels_list  \n",
       "0         8140  [(_Robert_Mugabe_falling_from_his_podium, 80),...  \n",
       "1           14         [(_This_cat_plotting_to_kill_someone, 14)]  \n",
       "2           21                         [(_This_happy_family, 21)]  \n",
       "3           36             [(_Trump_trying_to_close_his_pen, 36)]  \n",
       "4           10                         [(_Dog_with_Cat_mask, 10)]  \n",
       "..         ...                                                ...  \n",
       "102         13  [(_Japanese_astronaut_looking_through_a_water_...  \n",
       "103         10                        [(_A_New_Zealand_Lamb, 10)]  \n",
       "104         14  [(_Ridiculously_photogenic_volleyball_player, ...  \n",
       "105         12      [(_A_guy_throwing_a_frisbee_really_hard, 12)]  \n",
       "106         10           [(_A_man_standing_on_a_subway_vent, 10)]  \n",
       "\n",
       "[107 rows x 4 columns]"
      ]
     },
     "execution_count": 118,
     "metadata": {},
     "output_type": "execute_result"
    }
   ],
   "source": [
    "centroid_dataframe"
   ]
  },
  {
   "cell_type": "markdown",
   "id": "2105cbef",
   "metadata": {},
   "source": [
    "## OPTICS"
   ]
  },
  {
   "cell_type": "code",
   "execution_count": 124,
   "id": "10544f9c",
   "metadata": {},
   "outputs": [],
   "source": [
    "from sklearn.cluster import OPTICS\n",
    "\n",
    "optic_cluster = OPTICS(n_jobs=50).fit(X)"
   ]
  },
  {
   "cell_type": "code",
   "execution_count": 125,
   "id": "95f4bf55",
   "metadata": {},
   "outputs": [
    {
     "data": {
      "text/plain": [
       "array([ -1,  -1, 178, ...,  66,  66,  66])"
      ]
     },
     "execution_count": 125,
     "metadata": {},
     "output_type": "execute_result"
    }
   ],
   "source": [
    "optic_cluster.labels_"
   ]
  },
  {
   "cell_type": "code",
   "execution_count": 126,
   "id": "b45dfec7",
   "metadata": {},
   "outputs": [],
   "source": [
    "df['cluster_id'] = optic_cluster.labels_"
   ]
  },
  {
   "cell_type": "code",
   "execution_count": 127,
   "id": "67921f85",
   "metadata": {},
   "outputs": [
    {
     "data": {
      "text/plain": [
       "226"
      ]
     },
     "execution_count": 127,
     "metadata": {},
     "output_type": "execute_result"
    }
   ],
   "source": [
    "max(optic_cluster.labels_)"
   ]
  },
  {
   "cell_type": "code",
   "execution_count": 128,
   "id": "78ffbd68",
   "metadata": {},
   "outputs": [],
   "source": [
    "centroid_dataframe = pd.DataFrame(columns=[\"label\", \"num_correct\", \"num_total\", \"all_labels_list\"])\n",
    "for cluster_id in range(-1, max(dbscan_cluster.labels_)+1):\n",
    "    # maximum image_dir\n",
    "    predictions_for_centroid = df[df['cluster_id'] == cluster_id]\n",
    "    value_counts = predictions_for_centroid['image_dir'].value_counts()\n",
    "    \n",
    "    labels = list()\n",
    "    for row_id in value_counts.index:\n",
    "        labels.append((os.path.split(row_id)[1], value_counts[row_id]))\n",
    "    \n",
    "    centroid_dataframe.loc[len(centroid_dataframe.index)] = [labels[0][0], labels[0][1], sum(value_counts), labels]"
   ]
  },
  {
   "cell_type": "code",
   "execution_count": 129,
   "id": "642d681d",
   "metadata": {},
   "outputs": [
    {
     "data": {
      "text/html": [
       "<div>\n",
       "<style scoped>\n",
       "    .dataframe tbody tr th:only-of-type {\n",
       "        vertical-align: middle;\n",
       "    }\n",
       "\n",
       "    .dataframe tbody tr th {\n",
       "        vertical-align: top;\n",
       "    }\n",
       "\n",
       "    .dataframe thead th {\n",
       "        text-align: right;\n",
       "    }\n",
       "</style>\n",
       "<table border=\"1\" class=\"dataframe\">\n",
       "  <thead>\n",
       "    <tr style=\"text-align: right;\">\n",
       "      <th></th>\n",
       "      <th>label</th>\n",
       "      <th>num_correct</th>\n",
       "      <th>num_total</th>\n",
       "      <th>all_labels_list</th>\n",
       "    </tr>\n",
       "  </thead>\n",
       "  <tbody>\n",
       "    <tr>\n",
       "      <th>0</th>\n",
       "      <td>_Peter_Dinklage_riding_a_scooter</td>\n",
       "      <td>73</td>\n",
       "      <td>7257</td>\n",
       "      <td>[(_Peter_Dinklage_riding_a_scooter, 73), (_Rob...</td>\n",
       "    </tr>\n",
       "    <tr>\n",
       "      <th>1</th>\n",
       "      <td>_Weightlifter_jumping_up_after_a_successful_lift</td>\n",
       "      <td>13</td>\n",
       "      <td>14</td>\n",
       "      <td>[(_Weightlifter_jumping_up_after_a_successful_...</td>\n",
       "    </tr>\n",
       "    <tr>\n",
       "      <th>2</th>\n",
       "      <td>_Headless_hockey_player_and_terrified_referee</td>\n",
       "      <td>8</td>\n",
       "      <td>8</td>\n",
       "      <td>[(_Headless_hockey_player_and_terrified_refere...</td>\n",
       "    </tr>\n",
       "    <tr>\n",
       "      <th>3</th>\n",
       "      <td>_This_teacher_from_my_Facebook_feed</td>\n",
       "      <td>5</td>\n",
       "      <td>5</td>\n",
       "      <td>[(_This_teacher_from_my_Facebook_feed, 5)]</td>\n",
       "    </tr>\n",
       "    <tr>\n",
       "      <th>4</th>\n",
       "      <td>_Obama_wielding_a_lightsaber_in_front_of_the_W...</td>\n",
       "      <td>13</td>\n",
       "      <td>14</td>\n",
       "      <td>[(_Obama_wielding_a_lightsaber_in_front_of_the...</td>\n",
       "    </tr>\n",
       "    <tr>\n",
       "      <th>...</th>\n",
       "      <td>...</td>\n",
       "      <td>...</td>\n",
       "      <td>...</td>\n",
       "      <td>...</td>\n",
       "    </tr>\n",
       "    <tr>\n",
       "      <th>102</th>\n",
       "      <td>_Albino_squirrel_leaning_on_a_screw</td>\n",
       "      <td>6</td>\n",
       "      <td>6</td>\n",
       "      <td>[(_Albino_squirrel_leaning_on_a_screw, 6)]</td>\n",
       "    </tr>\n",
       "    <tr>\n",
       "      <th>103</th>\n",
       "      <td>_A_guy_throwing_a_frisbee_really_hard</td>\n",
       "      <td>13</td>\n",
       "      <td>13</td>\n",
       "      <td>[(_A_guy_throwing_a_frisbee_really_hard, 13)]</td>\n",
       "    </tr>\n",
       "    <tr>\n",
       "      <th>104</th>\n",
       "      <td>_A_guy_throwing_a_frisbee_really_hard</td>\n",
       "      <td>8</td>\n",
       "      <td>8</td>\n",
       "      <td>[(_A_guy_throwing_a_frisbee_really_hard, 8)]</td>\n",
       "    </tr>\n",
       "    <tr>\n",
       "      <th>105</th>\n",
       "      <td>_2016_Olympic_Ping_Pong</td>\n",
       "      <td>13</td>\n",
       "      <td>13</td>\n",
       "      <td>[(_2016_Olympic_Ping_Pong, 13)]</td>\n",
       "    </tr>\n",
       "    <tr>\n",
       "      <th>106</th>\n",
       "      <td>_Hand_of_God_over_Portugal</td>\n",
       "      <td>13</td>\n",
       "      <td>16</td>\n",
       "      <td>[(_Hand_of_God_over_Portugal, 13), (_This_Cat,...</td>\n",
       "    </tr>\n",
       "  </tbody>\n",
       "</table>\n",
       "<p>107 rows × 4 columns</p>\n",
       "</div>"
      ],
      "text/plain": [
       "                                                 label  num_correct  \\\n",
       "0                     _Peter_Dinklage_riding_a_scooter           73   \n",
       "1     _Weightlifter_jumping_up_after_a_successful_lift           13   \n",
       "2        _Headless_hockey_player_and_terrified_referee            8   \n",
       "3                  _This_teacher_from_my_Facebook_feed            5   \n",
       "4    _Obama_wielding_a_lightsaber_in_front_of_the_W...           13   \n",
       "..                                                 ...          ...   \n",
       "102                _Albino_squirrel_leaning_on_a_screw            6   \n",
       "103              _A_guy_throwing_a_frisbee_really_hard           13   \n",
       "104              _A_guy_throwing_a_frisbee_really_hard            8   \n",
       "105                            _2016_Olympic_Ping_Pong           13   \n",
       "106                         _Hand_of_God_over_Portugal           13   \n",
       "\n",
       "     num_total                                    all_labels_list  \n",
       "0         7257  [(_Peter_Dinklage_riding_a_scooter, 73), (_Rob...  \n",
       "1           14  [(_Weightlifter_jumping_up_after_a_successful_...  \n",
       "2            8  [(_Headless_hockey_player_and_terrified_refere...  \n",
       "3            5         [(_This_teacher_from_my_Facebook_feed, 5)]  \n",
       "4           14  [(_Obama_wielding_a_lightsaber_in_front_of_the...  \n",
       "..         ...                                                ...  \n",
       "102          6         [(_Albino_squirrel_leaning_on_a_screw, 6)]  \n",
       "103         13      [(_A_guy_throwing_a_frisbee_really_hard, 13)]  \n",
       "104          8       [(_A_guy_throwing_a_frisbee_really_hard, 8)]  \n",
       "105         13                    [(_2016_Olympic_Ping_Pong, 13)]  \n",
       "106         16  [(_Hand_of_God_over_Portugal, 13), (_This_Cat,...  \n",
       "\n",
       "[107 rows x 4 columns]"
      ]
     },
     "execution_count": 129,
     "metadata": {},
     "output_type": "execute_result"
    }
   ],
   "source": [
    "centroid_dataframe"
   ]
  },
  {
   "cell_type": "markdown",
   "id": "f286691b",
   "metadata": {},
   "source": [
    "## Trying Model training after PCA"
   ]
  },
  {
   "cell_type": "code",
   "execution_count": 130,
   "id": "da0350c0",
   "metadata": {},
   "outputs": [],
   "source": [
    "from sklearn.decomposition import PCA\n",
    "\n",
    "pca = PCA(n_components=100, random_state=22)\n",
    "pca.fit(X)\n",
    "pca_x = pca.transform(X)"
   ]
  },
  {
   "cell_type": "code",
   "execution_count": 133,
   "id": "bad60641",
   "metadata": {},
   "outputs": [
    {
     "data": {
      "text/plain": [
       "(10126, 100)"
      ]
     },
     "execution_count": 133,
     "metadata": {},
     "output_type": "execute_result"
    }
   ],
   "source": [
    "pca_x.shape"
   ]
  },
  {
   "cell_type": "code",
   "execution_count": 132,
   "id": "acf2c415",
   "metadata": {},
   "outputs": [
    {
     "name": "stdout",
     "output_type": "stream",
     "text": [
      "Clustering 10126 points in 100D to 256 clusters, redo 1 times, 50 iterations\n",
      "  Preprocessing in 0.00 s\n",
      "  Iteration 49 (0.70 s, search 0.66 s): objective=257574 imbalance=1.342 nsplit=0       \r"
     ]
    },
    {
     "data": {
      "text/plain": [
       "257574.46875"
      ]
     },
     "execution_count": 132,
     "metadata": {},
     "output_type": "execute_result"
    }
   ],
   "source": [
    "# cluster training\n",
    "ncentroids = 256\n",
    "niter = 50\n",
    "verbose = True\n",
    "d = pca_x.shape[1]\n",
    "kmeans = faiss.Kmeans(d, ncentroids, niter=niter, verbose=verbose, gpu=True)\n",
    "kmeans.train(pca_x)"
   ]
  },
  {
   "cell_type": "code",
   "execution_count": 135,
   "id": "18476ae1",
   "metadata": {},
   "outputs": [],
   "source": [
    "D, I = kmeans.index.search(pca_x, 1)\n",
    "I.reshape(I.shape[0])\n",
    "df['cluster_id'] = I"
   ]
  },
  {
   "cell_type": "code",
   "execution_count": 136,
   "id": "f838bcc1",
   "metadata": {},
   "outputs": [],
   "source": [
    "centroid_dataframe = pd.DataFrame(columns=[\"label\", \"num_correct\", \"num_total\", \"all_labels_list\"])\n",
    "for cluster_id in range(ncentroids):\n",
    "    # maximum image_dir\n",
    "    predictions_for_centroid = df[df['cluster_id'] == cluster_id]\n",
    "    value_counts = predictions_for_centroid['image_dir'].value_counts()\n",
    "    \n",
    "    labels = list()\n",
    "    for row_id in value_counts.index:\n",
    "        labels.append((os.path.split(row_id)[1], value_counts[row_id]))\n",
    "    \n",
    "    centroid_dataframe.loc[len(centroid_dataframe.index)] = [labels[0][0], labels[0][1], sum(value_counts), labels]\n",
    "    "
   ]
  },
  {
   "cell_type": "code",
   "execution_count": 138,
   "id": "5d121fe6",
   "metadata": {},
   "outputs": [
    {
     "data": {
      "text/plain": [
       "0.3296464546711436"
      ]
     },
     "execution_count": 138,
     "metadata": {},
     "output_type": "execute_result"
    }
   ],
   "source": [
    "sum(centroid_dataframe['num_correct'])/sum(centroid_dataframe['num_total'])"
   ]
  },
  {
   "cell_type": "markdown",
   "id": "7cda2f90",
   "metadata": {},
   "source": [
    "## DBSCAN PCA"
   ]
  },
  {
   "cell_type": "code",
   "execution_count": 140,
   "id": "4fbf1f0c",
   "metadata": {},
   "outputs": [],
   "source": [
    "from sklearn.decomposition import PCA\n",
    "\n",
    "pca = PCA(n_components=100, random_state=22)\n",
    "pca.fit(X)\n",
    "pca_x = pca.transform(X)\n",
    "dbscan_cluster = DBSCAN(eps=3, min_samples=10).fit(pca_x)"
   ]
  },
  {
   "cell_type": "code",
   "execution_count": 141,
   "id": "b398b609",
   "metadata": {},
   "outputs": [
    {
     "data": {
      "text/plain": [
       "114"
      ]
     },
     "execution_count": 141,
     "metadata": {},
     "output_type": "execute_result"
    }
   ],
   "source": [
    "max(dbscan_cluster.labels_)"
   ]
  },
  {
   "cell_type": "code",
   "execution_count": 142,
   "id": "0c97a6dc",
   "metadata": {},
   "outputs": [],
   "source": [
    "df['cluster_id'] = dbscan_cluster.labels_"
   ]
  },
  {
   "cell_type": "code",
   "execution_count": 144,
   "id": "4ef1c552",
   "metadata": {},
   "outputs": [],
   "source": [
    "centroid_dataframe = pd.DataFrame(columns=[\"label\", \"num_correct\", \"num_total\", \"all_labels_list\"])\n",
    "for cluster_id in range(max(dbscan_cluster.labels_)):\n",
    "    # maximum image_dir\n",
    "    predictions_for_centroid = df[df['cluster_id'] == cluster_id]\n",
    "    value_counts = predictions_for_centroid['image_dir'].value_counts()\n",
    "    \n",
    "    labels = list()\n",
    "    for row_id in value_counts.index:\n",
    "        labels.append((os.path.split(row_id)[1], value_counts[row_id]))\n",
    "    \n",
    "    centroid_dataframe.loc[len(centroid_dataframe.index)] = [labels[0][0], labels[0][1], sum(value_counts), labels]\n",
    "    "
   ]
  },
  {
   "cell_type": "code",
   "execution_count": 148,
   "id": "8bdb4cc2",
   "metadata": {},
   "outputs": [
    {
     "data": {
      "text/html": [
       "<div>\n",
       "<style scoped>\n",
       "    .dataframe tbody tr th:only-of-type {\n",
       "        vertical-align: middle;\n",
       "    }\n",
       "\n",
       "    .dataframe tbody tr th {\n",
       "        vertical-align: top;\n",
       "    }\n",
       "\n",
       "    .dataframe thead th {\n",
       "        text-align: right;\n",
       "    }\n",
       "</style>\n",
       "<table border=\"1\" class=\"dataframe\">\n",
       "  <thead>\n",
       "    <tr style=\"text-align: right;\">\n",
       "      <th></th>\n",
       "      <th>label</th>\n",
       "      <th>num_correct</th>\n",
       "      <th>num_total</th>\n",
       "      <th>all_labels_list</th>\n",
       "    </tr>\n",
       "  </thead>\n",
       "  <tbody>\n",
       "    <tr>\n",
       "      <th>0</th>\n",
       "      <td>_This_cat_plotting_to_kill_someone</td>\n",
       "      <td>14</td>\n",
       "      <td>14</td>\n",
       "      <td>[(_This_cat_plotting_to_kill_someone, 14)]</td>\n",
       "    </tr>\n",
       "    <tr>\n",
       "      <th>1</th>\n",
       "      <td>_This_happy_family</td>\n",
       "      <td>21</td>\n",
       "      <td>21</td>\n",
       "      <td>[(_This_happy_family, 21)]</td>\n",
       "    </tr>\n",
       "    <tr>\n",
       "      <th>2</th>\n",
       "      <td>_Trump_trying_to_close_his_pen</td>\n",
       "      <td>40</td>\n",
       "      <td>40</td>\n",
       "      <td>[(_Trump_trying_to_close_his_pen, 40)]</td>\n",
       "    </tr>\n",
       "    <tr>\n",
       "      <th>3</th>\n",
       "      <td>_Dog_with_Cat_mask</td>\n",
       "      <td>11</td>\n",
       "      <td>11</td>\n",
       "      <td>[(_Dog_with_Cat_mask, 11)]</td>\n",
       "    </tr>\n",
       "    <tr>\n",
       "      <th>4</th>\n",
       "      <td>_This_chubby_squirrel_(x-post_from__r_aww)</td>\n",
       "      <td>10</td>\n",
       "      <td>10</td>\n",
       "      <td>[(_This_chubby_squirrel_(x-post_from__r_aww), ...</td>\n",
       "    </tr>\n",
       "    <tr>\n",
       "      <th>...</th>\n",
       "      <td>...</td>\n",
       "      <td>...</td>\n",
       "      <td>...</td>\n",
       "      <td>...</td>\n",
       "    </tr>\n",
       "    <tr>\n",
       "      <th>109</th>\n",
       "      <td>_Palestinian_man_taking_selfie_while_Israeli_p...</td>\n",
       "      <td>25</td>\n",
       "      <td>25</td>\n",
       "      <td>[(_Palestinian_man_taking_selfie_while_Israeli...</td>\n",
       "    </tr>\n",
       "    <tr>\n",
       "      <th>110</th>\n",
       "      <td>_Japanese_astronaut_looking_through_a_water_bu...</td>\n",
       "      <td>14</td>\n",
       "      <td>14</td>\n",
       "      <td>[(_Japanese_astronaut_looking_through_a_water_...</td>\n",
       "    </tr>\n",
       "    <tr>\n",
       "      <th>111</th>\n",
       "      <td>_A_New_Zealand_Lamb</td>\n",
       "      <td>11</td>\n",
       "      <td>11</td>\n",
       "      <td>[(_A_New_Zealand_Lamb, 11)]</td>\n",
       "    </tr>\n",
       "    <tr>\n",
       "      <th>112</th>\n",
       "      <td>_Ridiculously_photogenic_volleyball_player</td>\n",
       "      <td>16</td>\n",
       "      <td>16</td>\n",
       "      <td>[(_Ridiculously_photogenic_volleyball_player, ...</td>\n",
       "    </tr>\n",
       "    <tr>\n",
       "      <th>113</th>\n",
       "      <td>_A_guy_throwing_a_frisbee_really_hard</td>\n",
       "      <td>12</td>\n",
       "      <td>12</td>\n",
       "      <td>[(_A_guy_throwing_a_frisbee_really_hard, 12)]</td>\n",
       "    </tr>\n",
       "  </tbody>\n",
       "</table>\n",
       "<p>114 rows × 4 columns</p>\n",
       "</div>"
      ],
      "text/plain": [
       "                                                 label  num_correct  \\\n",
       "0                   _This_cat_plotting_to_kill_someone           14   \n",
       "1                                   _This_happy_family           21   \n",
       "2                       _Trump_trying_to_close_his_pen           40   \n",
       "3                                   _Dog_with_Cat_mask           11   \n",
       "4           _This_chubby_squirrel_(x-post_from__r_aww)           10   \n",
       "..                                                 ...          ...   \n",
       "109  _Palestinian_man_taking_selfie_while_Israeli_p...           25   \n",
       "110  _Japanese_astronaut_looking_through_a_water_bu...           14   \n",
       "111                                _A_New_Zealand_Lamb           11   \n",
       "112         _Ridiculously_photogenic_volleyball_player           16   \n",
       "113              _A_guy_throwing_a_frisbee_really_hard           12   \n",
       "\n",
       "     num_total                                    all_labels_list  \n",
       "0           14         [(_This_cat_plotting_to_kill_someone, 14)]  \n",
       "1           21                         [(_This_happy_family, 21)]  \n",
       "2           40             [(_Trump_trying_to_close_his_pen, 40)]  \n",
       "3           11                         [(_Dog_with_Cat_mask, 11)]  \n",
       "4           10  [(_This_chubby_squirrel_(x-post_from__r_aww), ...  \n",
       "..         ...                                                ...  \n",
       "109         25  [(_Palestinian_man_taking_selfie_while_Israeli...  \n",
       "110         14  [(_Japanese_astronaut_looking_through_a_water_...  \n",
       "111         11                        [(_A_New_Zealand_Lamb, 11)]  \n",
       "112         16  [(_Ridiculously_photogenic_volleyball_player, ...  \n",
       "113         12      [(_A_guy_throwing_a_frisbee_really_hard, 12)]  \n",
       "\n",
       "[114 rows x 4 columns]"
      ]
     },
     "execution_count": 148,
     "metadata": {},
     "output_type": "execute_result"
    }
   ],
   "source": [
    "centroid_dataframe"
   ]
  },
  {
   "cell_type": "code",
   "execution_count": 150,
   "id": "54f285fa",
   "metadata": {},
   "outputs": [
    {
     "data": {
      "text/html": [
       "<div>\n",
       "<style scoped>\n",
       "    .dataframe tbody tr th:only-of-type {\n",
       "        vertical-align: middle;\n",
       "    }\n",
       "\n",
       "    .dataframe tbody tr th {\n",
       "        vertical-align: top;\n",
       "    }\n",
       "\n",
       "    .dataframe thead th {\n",
       "        text-align: right;\n",
       "    }\n",
       "</style>\n",
       "<table border=\"1\" class=\"dataframe\">\n",
       "  <thead>\n",
       "    <tr style=\"text-align: right;\">\n",
       "      <th></th>\n",
       "      <th>label</th>\n",
       "      <th>num_correct</th>\n",
       "      <th>num_total</th>\n",
       "      <th>all_labels_list</th>\n",
       "    </tr>\n",
       "  </thead>\n",
       "  <tbody>\n",
       "    <tr>\n",
       "      <th>69</th>\n",
       "      <td>_Canadian_PM_Justin_Trudeau_hesitating_to_shak...</td>\n",
       "      <td>57</td>\n",
       "      <td>57</td>\n",
       "      <td>[(_Canadian_PM_Justin_Trudeau_hesitating_to_sh...</td>\n",
       "    </tr>\n",
       "  </tbody>\n",
       "</table>\n",
       "</div>"
      ],
      "text/plain": [
       "                                                label  num_correct  num_total  \\\n",
       "69  _Canadian_PM_Justin_Trudeau_hesitating_to_shak...           57         57   \n",
       "\n",
       "                                      all_labels_list  \n",
       "69  [(_Canadian_PM_Justin_Trudeau_hesitating_to_sh...  "
      ]
     },
     "execution_count": 150,
     "metadata": {},
     "output_type": "execute_result"
    }
   ],
   "source": [
    "centroid_dataframe[centroid_dataframe['num_total']>50]"
   ]
  },
  {
   "cell_type": "code",
   "execution_count": 147,
   "id": "029b9361",
   "metadata": {},
   "outputs": [
    {
     "data": {
      "text/plain": [
       "19.964912280701753"
      ]
     },
     "execution_count": 147,
     "metadata": {},
     "output_type": "execute_result"
    }
   ],
   "source": [
    "sum(centroid_dataframe['num_total'])/114"
   ]
  },
  {
   "cell_type": "code",
   "execution_count": 146,
   "id": "f09456d6",
   "metadata": {},
   "outputs": [
    {
     "data": {
      "text/plain": [
       "0.9912126537785588"
      ]
     },
     "execution_count": 146,
     "metadata": {},
     "output_type": "execute_result"
    }
   ],
   "source": [
    "sum(centroid_dataframe['num_correct'])/sum(centroid_dataframe['num_total'])"
   ]
  },
  {
   "cell_type": "code",
   "execution_count": null,
   "id": "4affbd95",
   "metadata": {},
   "outputs": [],
   "source": []
  }
 ],
 "metadata": {
  "kernelspec": {
   "display_name": "Python 3 (ipykernel)",
   "language": "python",
   "name": "python3"
  },
  "language_info": {
   "codemirror_mode": {
    "name": "ipython",
    "version": 3
   },
   "file_extension": ".py",
   "mimetype": "text/x-python",
   "name": "python",
   "nbconvert_exporter": "python",
   "pygments_lexer": "ipython3",
   "version": "3.8.10"
  }
 },
 "nbformat": 4,
 "nbformat_minor": 5
}
