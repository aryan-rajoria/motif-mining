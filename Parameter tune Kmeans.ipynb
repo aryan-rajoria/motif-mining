{
 "cells": [
  {
   "cell_type": "code",
   "execution_count": 1,
   "id": "dd47fed8",
   "metadata": {},
   "outputs": [
    {
     "name": "stdout",
     "output_type": "stream",
     "text": [
      "cuda:0\n"
     ]
    }
   ],
   "source": [
    "import faiss\n",
    "import os\n",
    "import numpy as np\n",
    "import pandas as pd\n",
    "\n",
    "import torch\n",
    "from torch import Tensor\n",
    "from torchvision import models\n",
    "\n",
    "from torchvision.transforms import Compose, transforms\n",
    "from PIL import Image\n",
    "import cv2\n",
    "import sqlite3\n",
    "\n",
    "device = torch.device(\"cuda:0\" if torch.cuda.is_available() else \"cpu\")\n",
    "print(device)"
   ]
  },
  {
   "cell_type": "code",
   "execution_count": null,
   "id": "427727eb",
   "metadata": {},
   "outputs": [],
   "source": [
    "DATASET = \"/nethome/kravicha3/aryan/project/dataset/Reddit_Provenance_Datasets/data/\"\n",
    "FEATURES_PATH = \"\"\n",
    "INDEX_PATH = \"\""
   ]
  },
  {
   "cell_type": "markdown",
   "id": "692d1c84",
   "metadata": {},
   "source": [
    "# Parameters to change\n",
    "\n",
    "1) Features extracted from ResNet-50  \n",
    "    - different layers  \n",
    "    - different models  \n",
    "    - bigger features  \n",
    "    - SIFT or SURF features  \n",
    "2) Different distance metrics  \n",
    "    - L1 or L2 norm  \n",
    "3) Different Indexing  \n",
    "    - HNSW  \n",
    "    - OPQ  \n",
    "    - IVF  \n",
    "4) Non linearity using score = 1-tanh(distance)  \n",
    "5) Using decompistions using PCA  \n"
   ]
  },
  {
   "cell_type": "code",
   "execution_count": null,
   "id": "a95adcc4",
   "metadata": {},
   "outputs": [],
   "source": [
    "from torchvision.models import MobileNet_V3_Large_Weights\n",
    "# model = models.mobilenet_v3_large(weights=MobileNet_V3_Large_Weights)\n",
    "model = models.resnet50(pretrained=True, progress=False)\n",
    "for param in model.parameters():\n",
    "    param.requires_grad = False\n",
    "model.fc = torch.nn.Identity()\n",
    "model.to(device)\n",
    "model.eval()"
   ]
  },
  {
   "cell_type": "code",
   "execution_count": null,
   "id": "e4abcc65",
   "metadata": {},
   "outputs": [],
   "source": [
    "def transform(images: np.ndarray):\n",
    "    transformed = [transforms.ToTensor()]\n",
    "    composed = Compose(transformed)\n",
    "    return composed(Image.fromarray(images[:, :, ::-1])).unsqueeze(0)\n",
    "\n",
    "def as_numpy(val: Tensor) -> np.ndarray:\n",
    "    return val.detach().cpu().numpy()\n",
    "\n",
    "def read_image(image_path):\n",
    "    img = cv2.imread(image_path)\n",
    "    if img is None:\n",
    "        cap = cv2.VideoCapture(image_path)\n",
    "        ret, img = cap.read()\n",
    "        cap.release()\n",
    "    return img\n",
    "\n",
    "def model_output(image_path):\n",
    "    img = read_image(image_path)\n",
    "    imgt = transform(img)\n",
    "    imgt = imgt.to(device)\n",
    "    with torch.no_grad():\n",
    "        inference = as_numpy(model(torch.unsqueeze(imgt[0], 0)))\n",
    "    return inference"
   ]
  },
  {
   "cell_type": "markdown",
   "id": "fd74a857",
   "metadata": {},
   "source": [
    "### Getting Images Features\n",
    "1) Features extracted from ResNet-50  \n",
    "    - different layers  \n",
    "    - different models  \n",
    "    - bigger features  \n",
    "    - SIFT or SURF features \n",
    "2) Using decompistions using PCA"
   ]
  },
  {
   "cell_type": "code",
   "execution_count": null,
   "id": "2b1c2e21",
   "metadata": {},
   "outputs": [],
   "source": [
    "from torchvision.models.feature_extraction import get_graph_node_names\n",
    "nodes, _ = get_graph_node_names(model)\n",
    "print('')"
   ]
  },
  {
   "cell_type": "code",
   "execution_count": null,
   "id": "cee4eded",
   "metadata": {},
   "outputs": [],
   "source": [
    "def get_image_features(start_path = '.'):\n",
    "    df = pd.DataFrame(columns=['img_name', 'dir', 'features'])\n",
    "    for dirpath, dirnames, filenames in os.walk(start_path):\n",
    "        for f in filenames:\n",
    "            fp = os.path.join(dirpath, f)\n",
    "        \n",
    "            if (fp.endswith('.jpg') or fp.endswith('.png') or fp.endswith('.mp4')):\n",
    "                features = model_output(fp)\n",
    "                df.loc[len(df.index)] = [f, dirpath, features]\n",
    "    return df"
   ]
  },
  {
   "cell_type": "code",
   "execution_count": null,
   "id": "9dc1e75c",
   "metadata": {},
   "outputs": [],
   "source": [
    "reddit_resnet_df = get_image_features(DATASET)"
   ]
  },
  {
   "cell_type": "code",
   "execution_count": null,
   "id": "08a6e1a2",
   "metadata": {},
   "outputs": [],
   "source": [
    "reddit_resnet_df"
   ]
  },
  {
   "cell_type": "code",
   "execution_count": null,
   "id": "00d7ca6e",
   "metadata": {},
   "outputs": [],
   "source": [
    "reddit_resnet_df.to_pickle('./tune_result/reddit_resnet_df.pkl')"
   ]
  },
  {
   "cell_type": "code",
   "execution_count": 2,
   "id": "7b07d424",
   "metadata": {},
   "outputs": [],
   "source": [
    "df = pd.read_pickle('./tuning/tune_result/reddit_resnet_df.pkl')"
   ]
  },
  {
   "cell_type": "code",
   "execution_count": 6,
   "id": "6d2d7f89",
   "metadata": {},
   "outputs": [
    {
     "data": {
      "text/plain": [
       "array([[0.7295329 , 0.30392087, 0.7336758 , ..., 0.10279972, 0.1377843 ,\n",
       "        0.65775776]], dtype=float32)"
      ]
     },
     "execution_count": 6,
     "metadata": {},
     "output_type": "execute_result"
    }
   ],
   "source": [
    "df['features'][0]"
   ]
  },
  {
   "cell_type": "markdown",
   "id": "836adca4",
   "metadata": {},
   "source": [
    "### Creating new Faiss Index\n",
    "1) Different Faiss indexes:  \n",
    "    - IndexFlatL2  \n",
    "    - IndexIVFFlat  "
   ]
  },
  {
   "cell_type": "code",
   "execution_count": null,
   "id": "d7396c4c",
   "metadata": {},
   "outputs": [],
   "source": [
    "index = faiss.IndexFlatL2(dim)\n",
    "index.train(features)"
   ]
  },
  {
   "cell_type": "code",
   "execution_count": null,
   "id": "d6ef27a2",
   "metadata": {},
   "outputs": [],
   "source": []
  }
 ],
 "metadata": {
  "kernelspec": {
   "display_name": "Python 3 (ipykernel)",
   "language": "python",
   "name": "python3"
  },
  "language_info": {
   "codemirror_mode": {
    "name": "ipython",
    "version": 3
   },
   "file_extension": ".py",
   "mimetype": "text/x-python",
   "name": "python",
   "nbconvert_exporter": "python",
   "pygments_lexer": "ipython3",
   "version": "3.8.10"
  }
 },
 "nbformat": 4,
 "nbformat_minor": 5
}
